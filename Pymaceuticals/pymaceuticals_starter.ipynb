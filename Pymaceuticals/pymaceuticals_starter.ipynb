{
 "cells": [
  {
   "cell_type": "markdown",
   "metadata": {},
   "source": [
    "## Observations and Insights "
   ]
  },
  {
   "cell_type": "markdown",
   "metadata": {},
   "source": []
  },
  {
   "cell_type": "code",
   "execution_count": 1,
   "metadata": {},
   "outputs": [],
   "source": [
    "# Dependencies and Setup\n",
    "import matplotlib.pyplot as plt\n",
    "import pandas as pd\n",
    "import scipy.stats as st\n",
    "from scipy.stats import linregress\n",
    "\n",
    "# Study data files\n",
    "mouse_metadata_path = \"data/Mouse_metadata.csv\"\n",
    "study_results_path = \"data/Study_results.csv\"\n",
    "\n",
    "# Read the mouse data and the study results\n",
    "mouse_metadata = pd.read_csv(mouse_metadata_path)\n",
    "study_results = pd.read_csv(study_results_path)\n",
    "\n",
    "\n",
    "\n",
    "\n"
   ]
  },
  {
   "cell_type": "code",
   "execution_count": 2,
   "metadata": {},
   "outputs": [
    {
     "data": {
      "text/html": [
       "<div>\n",
       "<style scoped>\n",
       "    .dataframe tbody tr th:only-of-type {\n",
       "        vertical-align: middle;\n",
       "    }\n",
       "\n",
       "    .dataframe tbody tr th {\n",
       "        vertical-align: top;\n",
       "    }\n",
       "\n",
       "    .dataframe thead th {\n",
       "        text-align: right;\n",
       "    }\n",
       "</style>\n",
       "<table border=\"1\" class=\"dataframe\">\n",
       "  <thead>\n",
       "    <tr style=\"text-align: right;\">\n",
       "      <th></th>\n",
       "      <th>Mouse ID</th>\n",
       "      <th>Drug Regimen</th>\n",
       "      <th>Sex</th>\n",
       "      <th>Age_months</th>\n",
       "      <th>Weight (g)</th>\n",
       "    </tr>\n",
       "  </thead>\n",
       "  <tbody>\n",
       "    <tr>\n",
       "      <th>0</th>\n",
       "      <td>k403</td>\n",
       "      <td>Ramicane</td>\n",
       "      <td>Male</td>\n",
       "      <td>21</td>\n",
       "      <td>16</td>\n",
       "    </tr>\n",
       "    <tr>\n",
       "      <th>1</th>\n",
       "      <td>s185</td>\n",
       "      <td>Capomulin</td>\n",
       "      <td>Female</td>\n",
       "      <td>3</td>\n",
       "      <td>17</td>\n",
       "    </tr>\n",
       "    <tr>\n",
       "      <th>2</th>\n",
       "      <td>x401</td>\n",
       "      <td>Capomulin</td>\n",
       "      <td>Female</td>\n",
       "      <td>16</td>\n",
       "      <td>15</td>\n",
       "    </tr>\n",
       "    <tr>\n",
       "      <th>3</th>\n",
       "      <td>m601</td>\n",
       "      <td>Capomulin</td>\n",
       "      <td>Male</td>\n",
       "      <td>22</td>\n",
       "      <td>17</td>\n",
       "    </tr>\n",
       "    <tr>\n",
       "      <th>4</th>\n",
       "      <td>g791</td>\n",
       "      <td>Ramicane</td>\n",
       "      <td>Male</td>\n",
       "      <td>11</td>\n",
       "      <td>16</td>\n",
       "    </tr>\n",
       "  </tbody>\n",
       "</table>\n",
       "</div>"
      ],
      "text/plain": [
       "  Mouse ID Drug Regimen     Sex  Age_months  Weight (g)\n",
       "0     k403     Ramicane    Male          21          16\n",
       "1     s185    Capomulin  Female           3          17\n",
       "2     x401    Capomulin  Female          16          15\n",
       "3     m601    Capomulin    Male          22          17\n",
       "4     g791     Ramicane    Male          11          16"
      ]
     },
     "execution_count": 2,
     "metadata": {},
     "output_type": "execute_result"
    }
   ],
   "source": [
    "mouse_metadata.head()"
   ]
  },
  {
   "cell_type": "code",
   "execution_count": 3,
   "metadata": {},
   "outputs": [
    {
     "data": {
      "text/html": [
       "<div>\n",
       "<style scoped>\n",
       "    .dataframe tbody tr th:only-of-type {\n",
       "        vertical-align: middle;\n",
       "    }\n",
       "\n",
       "    .dataframe tbody tr th {\n",
       "        vertical-align: top;\n",
       "    }\n",
       "\n",
       "    .dataframe thead th {\n",
       "        text-align: right;\n",
       "    }\n",
       "</style>\n",
       "<table border=\"1\" class=\"dataframe\">\n",
       "  <thead>\n",
       "    <tr style=\"text-align: right;\">\n",
       "      <th></th>\n",
       "      <th>Mouse ID</th>\n",
       "      <th>Timepoint</th>\n",
       "      <th>Tumor Volume (mm3)</th>\n",
       "      <th>Metastatic Sites</th>\n",
       "    </tr>\n",
       "  </thead>\n",
       "  <tbody>\n",
       "    <tr>\n",
       "      <th>0</th>\n",
       "      <td>b128</td>\n",
       "      <td>0</td>\n",
       "      <td>45.0</td>\n",
       "      <td>0</td>\n",
       "    </tr>\n",
       "    <tr>\n",
       "      <th>1</th>\n",
       "      <td>f932</td>\n",
       "      <td>0</td>\n",
       "      <td>45.0</td>\n",
       "      <td>0</td>\n",
       "    </tr>\n",
       "    <tr>\n",
       "      <th>2</th>\n",
       "      <td>g107</td>\n",
       "      <td>0</td>\n",
       "      <td>45.0</td>\n",
       "      <td>0</td>\n",
       "    </tr>\n",
       "    <tr>\n",
       "      <th>3</th>\n",
       "      <td>a457</td>\n",
       "      <td>0</td>\n",
       "      <td>45.0</td>\n",
       "      <td>0</td>\n",
       "    </tr>\n",
       "    <tr>\n",
       "      <th>4</th>\n",
       "      <td>c819</td>\n",
       "      <td>0</td>\n",
       "      <td>45.0</td>\n",
       "      <td>0</td>\n",
       "    </tr>\n",
       "  </tbody>\n",
       "</table>\n",
       "</div>"
      ],
      "text/plain": [
       "  Mouse ID  Timepoint  Tumor Volume (mm3)  Metastatic Sites\n",
       "0     b128          0                45.0                 0\n",
       "1     f932          0                45.0                 0\n",
       "2     g107          0                45.0                 0\n",
       "3     a457          0                45.0                 0\n",
       "4     c819          0                45.0                 0"
      ]
     },
     "execution_count": 3,
     "metadata": {},
     "output_type": "execute_result"
    }
   ],
   "source": [
    "study_results.head()"
   ]
  },
  {
   "cell_type": "code",
   "execution_count": 4,
   "metadata": {},
   "outputs": [],
   "source": [
    "#combine data into a single dataset\n",
    "merge_df = pd.merge(mouse_metadata, study_results, on=\"Mouse ID\", how=\"outer\")"
   ]
  },
  {
   "cell_type": "code",
   "execution_count": 5,
   "metadata": {},
   "outputs": [
    {
     "data": {
      "text/html": [
       "<div>\n",
       "<style scoped>\n",
       "    .dataframe tbody tr th:only-of-type {\n",
       "        vertical-align: middle;\n",
       "    }\n",
       "\n",
       "    .dataframe tbody tr th {\n",
       "        vertical-align: top;\n",
       "    }\n",
       "\n",
       "    .dataframe thead th {\n",
       "        text-align: right;\n",
       "    }\n",
       "</style>\n",
       "<table border=\"1\" class=\"dataframe\">\n",
       "  <thead>\n",
       "    <tr style=\"text-align: right;\">\n",
       "      <th></th>\n",
       "      <th>Mouse ID</th>\n",
       "      <th>Drug Regimen</th>\n",
       "      <th>Sex</th>\n",
       "      <th>Age_months</th>\n",
       "      <th>Weight (g)</th>\n",
       "      <th>Timepoint</th>\n",
       "      <th>Tumor Volume (mm3)</th>\n",
       "      <th>Metastatic Sites</th>\n",
       "    </tr>\n",
       "  </thead>\n",
       "  <tbody>\n",
       "    <tr>\n",
       "      <th>0</th>\n",
       "      <td>k403</td>\n",
       "      <td>Ramicane</td>\n",
       "      <td>Male</td>\n",
       "      <td>21</td>\n",
       "      <td>16</td>\n",
       "      <td>0</td>\n",
       "      <td>45.000000</td>\n",
       "      <td>0</td>\n",
       "    </tr>\n",
       "    <tr>\n",
       "      <th>1</th>\n",
       "      <td>k403</td>\n",
       "      <td>Ramicane</td>\n",
       "      <td>Male</td>\n",
       "      <td>21</td>\n",
       "      <td>16</td>\n",
       "      <td>5</td>\n",
       "      <td>38.825898</td>\n",
       "      <td>0</td>\n",
       "    </tr>\n",
       "    <tr>\n",
       "      <th>2</th>\n",
       "      <td>k403</td>\n",
       "      <td>Ramicane</td>\n",
       "      <td>Male</td>\n",
       "      <td>21</td>\n",
       "      <td>16</td>\n",
       "      <td>10</td>\n",
       "      <td>35.014271</td>\n",
       "      <td>1</td>\n",
       "    </tr>\n",
       "    <tr>\n",
       "      <th>3</th>\n",
       "      <td>k403</td>\n",
       "      <td>Ramicane</td>\n",
       "      <td>Male</td>\n",
       "      <td>21</td>\n",
       "      <td>16</td>\n",
       "      <td>15</td>\n",
       "      <td>34.223992</td>\n",
       "      <td>1</td>\n",
       "    </tr>\n",
       "    <tr>\n",
       "      <th>4</th>\n",
       "      <td>k403</td>\n",
       "      <td>Ramicane</td>\n",
       "      <td>Male</td>\n",
       "      <td>21</td>\n",
       "      <td>16</td>\n",
       "      <td>20</td>\n",
       "      <td>32.997729</td>\n",
       "      <td>1</td>\n",
       "    </tr>\n",
       "    <tr>\n",
       "      <th>...</th>\n",
       "      <td>...</td>\n",
       "      <td>...</td>\n",
       "      <td>...</td>\n",
       "      <td>...</td>\n",
       "      <td>...</td>\n",
       "      <td>...</td>\n",
       "      <td>...</td>\n",
       "      <td>...</td>\n",
       "    </tr>\n",
       "    <tr>\n",
       "      <th>1888</th>\n",
       "      <td>z969</td>\n",
       "      <td>Naftisol</td>\n",
       "      <td>Male</td>\n",
       "      <td>9</td>\n",
       "      <td>30</td>\n",
       "      <td>25</td>\n",
       "      <td>63.145652</td>\n",
       "      <td>2</td>\n",
       "    </tr>\n",
       "    <tr>\n",
       "      <th>1889</th>\n",
       "      <td>z969</td>\n",
       "      <td>Naftisol</td>\n",
       "      <td>Male</td>\n",
       "      <td>9</td>\n",
       "      <td>30</td>\n",
       "      <td>30</td>\n",
       "      <td>65.841013</td>\n",
       "      <td>3</td>\n",
       "    </tr>\n",
       "    <tr>\n",
       "      <th>1890</th>\n",
       "      <td>z969</td>\n",
       "      <td>Naftisol</td>\n",
       "      <td>Male</td>\n",
       "      <td>9</td>\n",
       "      <td>30</td>\n",
       "      <td>35</td>\n",
       "      <td>69.176246</td>\n",
       "      <td>4</td>\n",
       "    </tr>\n",
       "    <tr>\n",
       "      <th>1891</th>\n",
       "      <td>z969</td>\n",
       "      <td>Naftisol</td>\n",
       "      <td>Male</td>\n",
       "      <td>9</td>\n",
       "      <td>30</td>\n",
       "      <td>40</td>\n",
       "      <td>70.314904</td>\n",
       "      <td>4</td>\n",
       "    </tr>\n",
       "    <tr>\n",
       "      <th>1892</th>\n",
       "      <td>z969</td>\n",
       "      <td>Naftisol</td>\n",
       "      <td>Male</td>\n",
       "      <td>9</td>\n",
       "      <td>30</td>\n",
       "      <td>45</td>\n",
       "      <td>73.867845</td>\n",
       "      <td>4</td>\n",
       "    </tr>\n",
       "  </tbody>\n",
       "</table>\n",
       "<p>1893 rows × 8 columns</p>\n",
       "</div>"
      ],
      "text/plain": [
       "     Mouse ID Drug Regimen   Sex  Age_months  Weight (g)  Timepoint  \\\n",
       "0        k403     Ramicane  Male          21          16          0   \n",
       "1        k403     Ramicane  Male          21          16          5   \n",
       "2        k403     Ramicane  Male          21          16         10   \n",
       "3        k403     Ramicane  Male          21          16         15   \n",
       "4        k403     Ramicane  Male          21          16         20   \n",
       "...       ...          ...   ...         ...         ...        ...   \n",
       "1888     z969     Naftisol  Male           9          30         25   \n",
       "1889     z969     Naftisol  Male           9          30         30   \n",
       "1890     z969     Naftisol  Male           9          30         35   \n",
       "1891     z969     Naftisol  Male           9          30         40   \n",
       "1892     z969     Naftisol  Male           9          30         45   \n",
       "\n",
       "      Tumor Volume (mm3)  Metastatic Sites  \n",
       "0              45.000000                 0  \n",
       "1              38.825898                 0  \n",
       "2              35.014271                 1  \n",
       "3              34.223992                 1  \n",
       "4              32.997729                 1  \n",
       "...                  ...               ...  \n",
       "1888           63.145652                 2  \n",
       "1889           65.841013                 3  \n",
       "1890           69.176246                 4  \n",
       "1891           70.314904                 4  \n",
       "1892           73.867845                 4  \n",
       "\n",
       "[1893 rows x 8 columns]"
      ]
     },
     "execution_count": 5,
     "metadata": {},
     "output_type": "execute_result"
    }
   ],
   "source": [
    "#display the data table for preview\n",
    "merge_df"
   ]
  },
  {
   "cell_type": "code",
   "execution_count": 6,
   "metadata": {},
   "outputs": [
    {
     "data": {
      "text/plain": [
       "249"
      ]
     },
     "execution_count": 6,
     "metadata": {},
     "output_type": "execute_result"
    }
   ],
   "source": [
    "# Checking the number of mice.\n",
    "mice_count = len(merge_df[\"Mouse ID\"].unique())\n",
    "mice_count"
   ]
  },
  {
   "cell_type": "code",
   "execution_count": 7,
   "metadata": {},
   "outputs": [
    {
     "data": {
      "text/plain": [
       "array(['g989'], dtype=object)"
      ]
     },
     "execution_count": 7,
     "metadata": {},
     "output_type": "execute_result"
    }
   ],
   "source": [
    "# Getting the duplicate mice by ID number that shows up for Mouse ID and Timepoint. \n",
    "dup_mouse = merge_df.loc[merge_df.duplicated(subset=[\"Mouse ID\", \"Timepoint\"]), \"Mouse ID\"].unique()\n",
    "dup_mouse"
   ]
  },
  {
   "cell_type": "code",
   "execution_count": 8,
   "metadata": {},
   "outputs": [
    {
     "data": {
      "text/html": [
       "<div>\n",
       "<style scoped>\n",
       "    .dataframe tbody tr th:only-of-type {\n",
       "        vertical-align: middle;\n",
       "    }\n",
       "\n",
       "    .dataframe tbody tr th {\n",
       "        vertical-align: top;\n",
       "    }\n",
       "\n",
       "    .dataframe thead th {\n",
       "        text-align: right;\n",
       "    }\n",
       "</style>\n",
       "<table border=\"1\" class=\"dataframe\">\n",
       "  <thead>\n",
       "    <tr style=\"text-align: right;\">\n",
       "      <th></th>\n",
       "      <th>Mouse ID</th>\n",
       "      <th>Drug Regimen</th>\n",
       "      <th>Sex</th>\n",
       "      <th>Age_months</th>\n",
       "      <th>Weight (g)</th>\n",
       "      <th>Timepoint</th>\n",
       "      <th>Tumor Volume (mm3)</th>\n",
       "      <th>Metastatic Sites</th>\n",
       "    </tr>\n",
       "  </thead>\n",
       "  <tbody>\n",
       "    <tr>\n",
       "      <th>908</th>\n",
       "      <td>g989</td>\n",
       "      <td>Propriva</td>\n",
       "      <td>Female</td>\n",
       "      <td>21</td>\n",
       "      <td>26</td>\n",
       "      <td>0</td>\n",
       "      <td>45.000000</td>\n",
       "      <td>0</td>\n",
       "    </tr>\n",
       "    <tr>\n",
       "      <th>909</th>\n",
       "      <td>g989</td>\n",
       "      <td>Propriva</td>\n",
       "      <td>Female</td>\n",
       "      <td>21</td>\n",
       "      <td>26</td>\n",
       "      <td>0</td>\n",
       "      <td>45.000000</td>\n",
       "      <td>0</td>\n",
       "    </tr>\n",
       "    <tr>\n",
       "      <th>910</th>\n",
       "      <td>g989</td>\n",
       "      <td>Propriva</td>\n",
       "      <td>Female</td>\n",
       "      <td>21</td>\n",
       "      <td>26</td>\n",
       "      <td>5</td>\n",
       "      <td>48.786801</td>\n",
       "      <td>0</td>\n",
       "    </tr>\n",
       "    <tr>\n",
       "      <th>911</th>\n",
       "      <td>g989</td>\n",
       "      <td>Propriva</td>\n",
       "      <td>Female</td>\n",
       "      <td>21</td>\n",
       "      <td>26</td>\n",
       "      <td>5</td>\n",
       "      <td>47.570392</td>\n",
       "      <td>0</td>\n",
       "    </tr>\n",
       "    <tr>\n",
       "      <th>912</th>\n",
       "      <td>g989</td>\n",
       "      <td>Propriva</td>\n",
       "      <td>Female</td>\n",
       "      <td>21</td>\n",
       "      <td>26</td>\n",
       "      <td>10</td>\n",
       "      <td>51.745156</td>\n",
       "      <td>0</td>\n",
       "    </tr>\n",
       "    <tr>\n",
       "      <th>913</th>\n",
       "      <td>g989</td>\n",
       "      <td>Propriva</td>\n",
       "      <td>Female</td>\n",
       "      <td>21</td>\n",
       "      <td>26</td>\n",
       "      <td>10</td>\n",
       "      <td>49.880528</td>\n",
       "      <td>0</td>\n",
       "    </tr>\n",
       "    <tr>\n",
       "      <th>914</th>\n",
       "      <td>g989</td>\n",
       "      <td>Propriva</td>\n",
       "      <td>Female</td>\n",
       "      <td>21</td>\n",
       "      <td>26</td>\n",
       "      <td>15</td>\n",
       "      <td>51.325852</td>\n",
       "      <td>1</td>\n",
       "    </tr>\n",
       "    <tr>\n",
       "      <th>915</th>\n",
       "      <td>g989</td>\n",
       "      <td>Propriva</td>\n",
       "      <td>Female</td>\n",
       "      <td>21</td>\n",
       "      <td>26</td>\n",
       "      <td>15</td>\n",
       "      <td>53.442020</td>\n",
       "      <td>0</td>\n",
       "    </tr>\n",
       "    <tr>\n",
       "      <th>916</th>\n",
       "      <td>g989</td>\n",
       "      <td>Propriva</td>\n",
       "      <td>Female</td>\n",
       "      <td>21</td>\n",
       "      <td>26</td>\n",
       "      <td>20</td>\n",
       "      <td>55.326122</td>\n",
       "      <td>1</td>\n",
       "    </tr>\n",
       "    <tr>\n",
       "      <th>917</th>\n",
       "      <td>g989</td>\n",
       "      <td>Propriva</td>\n",
       "      <td>Female</td>\n",
       "      <td>21</td>\n",
       "      <td>26</td>\n",
       "      <td>20</td>\n",
       "      <td>54.657650</td>\n",
       "      <td>1</td>\n",
       "    </tr>\n",
       "    <tr>\n",
       "      <th>918</th>\n",
       "      <td>g989</td>\n",
       "      <td>Propriva</td>\n",
       "      <td>Female</td>\n",
       "      <td>21</td>\n",
       "      <td>26</td>\n",
       "      <td>25</td>\n",
       "      <td>56.045564</td>\n",
       "      <td>1</td>\n",
       "    </tr>\n",
       "    <tr>\n",
       "      <th>919</th>\n",
       "      <td>g989</td>\n",
       "      <td>Propriva</td>\n",
       "      <td>Female</td>\n",
       "      <td>21</td>\n",
       "      <td>26</td>\n",
       "      <td>30</td>\n",
       "      <td>59.082294</td>\n",
       "      <td>1</td>\n",
       "    </tr>\n",
       "    <tr>\n",
       "      <th>920</th>\n",
       "      <td>g989</td>\n",
       "      <td>Propriva</td>\n",
       "      <td>Female</td>\n",
       "      <td>21</td>\n",
       "      <td>26</td>\n",
       "      <td>35</td>\n",
       "      <td>62.570880</td>\n",
       "      <td>2</td>\n",
       "    </tr>\n",
       "  </tbody>\n",
       "</table>\n",
       "</div>"
      ],
      "text/plain": [
       "    Mouse ID Drug Regimen     Sex  Age_months  Weight (g)  Timepoint  \\\n",
       "908     g989     Propriva  Female          21          26          0   \n",
       "909     g989     Propriva  Female          21          26          0   \n",
       "910     g989     Propriva  Female          21          26          5   \n",
       "911     g989     Propriva  Female          21          26          5   \n",
       "912     g989     Propriva  Female          21          26         10   \n",
       "913     g989     Propriva  Female          21          26         10   \n",
       "914     g989     Propriva  Female          21          26         15   \n",
       "915     g989     Propriva  Female          21          26         15   \n",
       "916     g989     Propriva  Female          21          26         20   \n",
       "917     g989     Propriva  Female          21          26         20   \n",
       "918     g989     Propriva  Female          21          26         25   \n",
       "919     g989     Propriva  Female          21          26         30   \n",
       "920     g989     Propriva  Female          21          26         35   \n",
       "\n",
       "     Tumor Volume (mm3)  Metastatic Sites  \n",
       "908           45.000000                 0  \n",
       "909           45.000000                 0  \n",
       "910           48.786801                 0  \n",
       "911           47.570392                 0  \n",
       "912           51.745156                 0  \n",
       "913           49.880528                 0  \n",
       "914           51.325852                 1  \n",
       "915           53.442020                 0  \n",
       "916           55.326122                 1  \n",
       "917           54.657650                 1  \n",
       "918           56.045564                 1  \n",
       "919           59.082294                 1  \n",
       "920           62.570880                 2  "
      ]
     },
     "execution_count": 8,
     "metadata": {},
     "output_type": "execute_result"
    }
   ],
   "source": [
    "# Optional: Get all the data for the duplicate mouse ID. \n",
    "dup_mouse_data = merge_df[merge_df[\"Mouse ID\"] == \"g989\"]\n",
    "dup_mouse_data"
   ]
  },
  {
   "cell_type": "code",
   "execution_count": 9,
   "metadata": {},
   "outputs": [
    {
     "data": {
      "text/html": [
       "<div>\n",
       "<style scoped>\n",
       "    .dataframe tbody tr th:only-of-type {\n",
       "        vertical-align: middle;\n",
       "    }\n",
       "\n",
       "    .dataframe tbody tr th {\n",
       "        vertical-align: top;\n",
       "    }\n",
       "\n",
       "    .dataframe thead th {\n",
       "        text-align: right;\n",
       "    }\n",
       "</style>\n",
       "<table border=\"1\" class=\"dataframe\">\n",
       "  <thead>\n",
       "    <tr style=\"text-align: right;\">\n",
       "      <th></th>\n",
       "      <th>Mouse ID</th>\n",
       "      <th>Drug Regimen</th>\n",
       "      <th>Sex</th>\n",
       "      <th>Age_months</th>\n",
       "      <th>Weight (g)</th>\n",
       "      <th>Timepoint</th>\n",
       "      <th>Tumor Volume (mm3)</th>\n",
       "      <th>Metastatic Sites</th>\n",
       "    </tr>\n",
       "  </thead>\n",
       "  <tbody>\n",
       "    <tr>\n",
       "      <th>0</th>\n",
       "      <td>k403</td>\n",
       "      <td>Ramicane</td>\n",
       "      <td>Male</td>\n",
       "      <td>21</td>\n",
       "      <td>16</td>\n",
       "      <td>0</td>\n",
       "      <td>45.000000</td>\n",
       "      <td>0</td>\n",
       "    </tr>\n",
       "    <tr>\n",
       "      <th>1</th>\n",
       "      <td>k403</td>\n",
       "      <td>Ramicane</td>\n",
       "      <td>Male</td>\n",
       "      <td>21</td>\n",
       "      <td>16</td>\n",
       "      <td>5</td>\n",
       "      <td>38.825898</td>\n",
       "      <td>0</td>\n",
       "    </tr>\n",
       "    <tr>\n",
       "      <th>2</th>\n",
       "      <td>k403</td>\n",
       "      <td>Ramicane</td>\n",
       "      <td>Male</td>\n",
       "      <td>21</td>\n",
       "      <td>16</td>\n",
       "      <td>10</td>\n",
       "      <td>35.014271</td>\n",
       "      <td>1</td>\n",
       "    </tr>\n",
       "    <tr>\n",
       "      <th>3</th>\n",
       "      <td>k403</td>\n",
       "      <td>Ramicane</td>\n",
       "      <td>Male</td>\n",
       "      <td>21</td>\n",
       "      <td>16</td>\n",
       "      <td>15</td>\n",
       "      <td>34.223992</td>\n",
       "      <td>1</td>\n",
       "    </tr>\n",
       "    <tr>\n",
       "      <th>4</th>\n",
       "      <td>k403</td>\n",
       "      <td>Ramicane</td>\n",
       "      <td>Male</td>\n",
       "      <td>21</td>\n",
       "      <td>16</td>\n",
       "      <td>20</td>\n",
       "      <td>32.997729</td>\n",
       "      <td>1</td>\n",
       "    </tr>\n",
       "  </tbody>\n",
       "</table>\n",
       "</div>"
      ],
      "text/plain": [
       "  Mouse ID Drug Regimen   Sex  Age_months  Weight (g)  Timepoint  \\\n",
       "0     k403     Ramicane  Male          21          16          0   \n",
       "1     k403     Ramicane  Male          21          16          5   \n",
       "2     k403     Ramicane  Male          21          16         10   \n",
       "3     k403     Ramicane  Male          21          16         15   \n",
       "4     k403     Ramicane  Male          21          16         20   \n",
       "\n",
       "   Tumor Volume (mm3)  Metastatic Sites  \n",
       "0           45.000000                 0  \n",
       "1           38.825898                 0  \n",
       "2           35.014271                 1  \n",
       "3           34.223992                 1  \n",
       "4           32.997729                 1  "
      ]
     },
     "execution_count": 9,
     "metadata": {},
     "output_type": "execute_result"
    }
   ],
   "source": [
    "# Create a clean DataFrame by dropping the duplicate mouse by its ID.\n",
    "clean_merge_df = merge_df.drop([908,909,910,911,912,913,914,915,916,917,918,919,920], axis=0)\n",
    "clean_merge_df.head()"
   ]
  },
  {
   "cell_type": "code",
   "execution_count": 10,
   "metadata": {},
   "outputs": [
    {
     "data": {
      "text/plain": [
       "248"
      ]
     },
     "execution_count": 10,
     "metadata": {},
     "output_type": "execute_result"
    }
   ],
   "source": [
    "# Checking the number of mice in the clean DataFrame.\n",
    "mice_count_clean = len(clean_merge_df[\"Mouse ID\"].unique())\n",
    "mice_count_clean"
   ]
  },
  {
   "cell_type": "markdown",
   "metadata": {},
   "source": [
    "## Summary Statistics"
   ]
  },
  {
   "cell_type": "code",
   "execution_count": 11,
   "metadata": {},
   "outputs": [],
   "source": [
    "# Generate a summary statistics table of mean, median, variance, standard deviation, and SEM of the tumor volume for each regimen\n",
    "\n",
    "# Use groupby and summary statistical methods to calculate the following properties of each drug regimen: \n",
    "# mean, median, variance, standard deviation, and SEM of the tumor volume. \n",
    "# Assemble the resulting series into a single summary dataframe.\n",
    "\n"
   ]
  },
  {
   "cell_type": "code",
   "execution_count": 12,
   "metadata": {},
   "outputs": [],
   "source": [
    "#groupby regimen\n",
    "drug_regimen = clean_merge_df.groupby([\"Drug Regimen\"])"
   ]
  },
  {
   "cell_type": "code",
   "execution_count": 13,
   "metadata": {},
   "outputs": [],
   "source": [
    "#mean\n",
    "drug_mean = drug_regimen[\"Tumor Volume (mm3)\"].mean()"
   ]
  },
  {
   "cell_type": "code",
   "execution_count": 14,
   "metadata": {},
   "outputs": [],
   "source": [
    "#median\n",
    "drug_median = drug_regimen[\"Tumor Volume (mm3)\"].median()"
   ]
  },
  {
   "cell_type": "code",
   "execution_count": 15,
   "metadata": {},
   "outputs": [],
   "source": [
    "#variance\n",
    "drug_variance = drug_regimen[\"Tumor Volume (mm3)\"].var()"
   ]
  },
  {
   "cell_type": "code",
   "execution_count": 16,
   "metadata": {},
   "outputs": [],
   "source": [
    "#standard deviation\n",
    "drug_std = drug_regimen[\"Tumor Volume (mm3)\"].std()"
   ]
  },
  {
   "cell_type": "code",
   "execution_count": 17,
   "metadata": {},
   "outputs": [],
   "source": [
    "#SEM\n",
    "drug_sem = drug_regimen[\"Tumor Volume (mm3)\"].sem()"
   ]
  },
  {
   "cell_type": "code",
   "execution_count": 18,
   "metadata": {},
   "outputs": [
    {
     "data": {
      "text/html": [
       "<div>\n",
       "<style scoped>\n",
       "    .dataframe tbody tr th:only-of-type {\n",
       "        vertical-align: middle;\n",
       "    }\n",
       "\n",
       "    .dataframe tbody tr th {\n",
       "        vertical-align: top;\n",
       "    }\n",
       "\n",
       "    .dataframe thead th {\n",
       "        text-align: right;\n",
       "    }\n",
       "</style>\n",
       "<table border=\"1\" class=\"dataframe\">\n",
       "  <thead>\n",
       "    <tr style=\"text-align: right;\">\n",
       "      <th></th>\n",
       "      <th>Mean</th>\n",
       "      <th>Median</th>\n",
       "      <th>Variance</th>\n",
       "      <th>Standard Deviation</th>\n",
       "      <th>SEM</th>\n",
       "    </tr>\n",
       "    <tr>\n",
       "      <th>Drug Regimen</th>\n",
       "      <th></th>\n",
       "      <th></th>\n",
       "      <th></th>\n",
       "      <th></th>\n",
       "      <th></th>\n",
       "    </tr>\n",
       "  </thead>\n",
       "  <tbody>\n",
       "    <tr>\n",
       "      <th>Capomulin</th>\n",
       "      <td>40.675741</td>\n",
       "      <td>41.557809</td>\n",
       "      <td>24.947764</td>\n",
       "      <td>4.994774</td>\n",
       "      <td>0.329346</td>\n",
       "    </tr>\n",
       "    <tr>\n",
       "      <th>Ceftamin</th>\n",
       "      <td>52.591172</td>\n",
       "      <td>51.776157</td>\n",
       "      <td>39.290177</td>\n",
       "      <td>6.268188</td>\n",
       "      <td>0.469821</td>\n",
       "    </tr>\n",
       "    <tr>\n",
       "      <th>Infubinol</th>\n",
       "      <td>52.884795</td>\n",
       "      <td>51.820584</td>\n",
       "      <td>43.128684</td>\n",
       "      <td>6.567243</td>\n",
       "      <td>0.492236</td>\n",
       "    </tr>\n",
       "    <tr>\n",
       "      <th>Ketapril</th>\n",
       "      <td>55.235638</td>\n",
       "      <td>53.698743</td>\n",
       "      <td>68.553577</td>\n",
       "      <td>8.279709</td>\n",
       "      <td>0.603860</td>\n",
       "    </tr>\n",
       "    <tr>\n",
       "      <th>Naftisol</th>\n",
       "      <td>54.331565</td>\n",
       "      <td>52.509285</td>\n",
       "      <td>66.173479</td>\n",
       "      <td>8.134708</td>\n",
       "      <td>0.596466</td>\n",
       "    </tr>\n",
       "    <tr>\n",
       "      <th>Placebo</th>\n",
       "      <td>54.033581</td>\n",
       "      <td>52.288934</td>\n",
       "      <td>61.168083</td>\n",
       "      <td>7.821003</td>\n",
       "      <td>0.581331</td>\n",
       "    </tr>\n",
       "    <tr>\n",
       "      <th>Propriva</th>\n",
       "      <td>52.320930</td>\n",
       "      <td>50.446266</td>\n",
       "      <td>43.852013</td>\n",
       "      <td>6.622085</td>\n",
       "      <td>0.544332</td>\n",
       "    </tr>\n",
       "    <tr>\n",
       "      <th>Ramicane</th>\n",
       "      <td>40.216745</td>\n",
       "      <td>40.673236</td>\n",
       "      <td>23.486704</td>\n",
       "      <td>4.846308</td>\n",
       "      <td>0.320955</td>\n",
       "    </tr>\n",
       "    <tr>\n",
       "      <th>Stelasyn</th>\n",
       "      <td>54.233149</td>\n",
       "      <td>52.431737</td>\n",
       "      <td>59.450562</td>\n",
       "      <td>7.710419</td>\n",
       "      <td>0.573111</td>\n",
       "    </tr>\n",
       "    <tr>\n",
       "      <th>Zoniferol</th>\n",
       "      <td>53.236507</td>\n",
       "      <td>51.818479</td>\n",
       "      <td>48.533355</td>\n",
       "      <td>6.966589</td>\n",
       "      <td>0.516398</td>\n",
       "    </tr>\n",
       "  </tbody>\n",
       "</table>\n",
       "</div>"
      ],
      "text/plain": [
       "                   Mean     Median   Variance  Standard Deviation       SEM\n",
       "Drug Regimen                                                               \n",
       "Capomulin     40.675741  41.557809  24.947764            4.994774  0.329346\n",
       "Ceftamin      52.591172  51.776157  39.290177            6.268188  0.469821\n",
       "Infubinol     52.884795  51.820584  43.128684            6.567243  0.492236\n",
       "Ketapril      55.235638  53.698743  68.553577            8.279709  0.603860\n",
       "Naftisol      54.331565  52.509285  66.173479            8.134708  0.596466\n",
       "Placebo       54.033581  52.288934  61.168083            7.821003  0.581331\n",
       "Propriva      52.320930  50.446266  43.852013            6.622085  0.544332\n",
       "Ramicane      40.216745  40.673236  23.486704            4.846308  0.320955\n",
       "Stelasyn      54.233149  52.431737  59.450562            7.710419  0.573111\n",
       "Zoniferol     53.236507  51.818479  48.533355            6.966589  0.516398"
      ]
     },
     "execution_count": 18,
     "metadata": {},
     "output_type": "execute_result"
    }
   ],
   "source": [
    "#put into a summary table\n",
    "drug_regimen_summary = pd.DataFrame({\"Mean\": drug_mean,\n",
    "                                    \"Median\": drug_median,\n",
    "                                    \"Variance\": drug_variance,\n",
    "                                    \"Standard Deviation\": drug_std,\n",
    "                                    \"SEM\": drug_sem})\n",
    "drug_regimen_summary"
   ]
  },
  {
   "cell_type": "code",
   "execution_count": 19,
   "metadata": {
    "scrolled": true
   },
   "outputs": [
    {
     "data": {
      "text/html": [
       "<div>\n",
       "<style scoped>\n",
       "    .dataframe tbody tr th:only-of-type {\n",
       "        vertical-align: middle;\n",
       "    }\n",
       "\n",
       "    .dataframe tbody tr th {\n",
       "        vertical-align: top;\n",
       "    }\n",
       "\n",
       "    .dataframe thead tr th {\n",
       "        text-align: left;\n",
       "    }\n",
       "\n",
       "    .dataframe thead tr:last-of-type th {\n",
       "        text-align: right;\n",
       "    }\n",
       "</style>\n",
       "<table border=\"1\" class=\"dataframe\">\n",
       "  <thead>\n",
       "    <tr>\n",
       "      <th></th>\n",
       "      <th colspan=\"5\" halign=\"left\">Tumor Volume (mm3)</th>\n",
       "    </tr>\n",
       "    <tr>\n",
       "      <th></th>\n",
       "      <th>mean</th>\n",
       "      <th>median</th>\n",
       "      <th>sem</th>\n",
       "      <th>std</th>\n",
       "      <th>var</th>\n",
       "    </tr>\n",
       "    <tr>\n",
       "      <th>Drug Regimen</th>\n",
       "      <th></th>\n",
       "      <th></th>\n",
       "      <th></th>\n",
       "      <th></th>\n",
       "      <th></th>\n",
       "    </tr>\n",
       "  </thead>\n",
       "  <tbody>\n",
       "    <tr>\n",
       "      <th>Capomulin</th>\n",
       "      <td>40.675741</td>\n",
       "      <td>41.557809</td>\n",
       "      <td>0.329346</td>\n",
       "      <td>4.994774</td>\n",
       "      <td>24.947764</td>\n",
       "    </tr>\n",
       "    <tr>\n",
       "      <th>Ceftamin</th>\n",
       "      <td>52.591172</td>\n",
       "      <td>51.776157</td>\n",
       "      <td>0.469821</td>\n",
       "      <td>6.268188</td>\n",
       "      <td>39.290177</td>\n",
       "    </tr>\n",
       "    <tr>\n",
       "      <th>Infubinol</th>\n",
       "      <td>52.884795</td>\n",
       "      <td>51.820584</td>\n",
       "      <td>0.492236</td>\n",
       "      <td>6.567243</td>\n",
       "      <td>43.128684</td>\n",
       "    </tr>\n",
       "    <tr>\n",
       "      <th>Ketapril</th>\n",
       "      <td>55.235638</td>\n",
       "      <td>53.698743</td>\n",
       "      <td>0.603860</td>\n",
       "      <td>8.279709</td>\n",
       "      <td>68.553577</td>\n",
       "    </tr>\n",
       "    <tr>\n",
       "      <th>Naftisol</th>\n",
       "      <td>54.331565</td>\n",
       "      <td>52.509285</td>\n",
       "      <td>0.596466</td>\n",
       "      <td>8.134708</td>\n",
       "      <td>66.173479</td>\n",
       "    </tr>\n",
       "    <tr>\n",
       "      <th>Placebo</th>\n",
       "      <td>54.033581</td>\n",
       "      <td>52.288934</td>\n",
       "      <td>0.581331</td>\n",
       "      <td>7.821003</td>\n",
       "      <td>61.168083</td>\n",
       "    </tr>\n",
       "    <tr>\n",
       "      <th>Propriva</th>\n",
       "      <td>52.320930</td>\n",
       "      <td>50.446266</td>\n",
       "      <td>0.544332</td>\n",
       "      <td>6.622085</td>\n",
       "      <td>43.852013</td>\n",
       "    </tr>\n",
       "    <tr>\n",
       "      <th>Ramicane</th>\n",
       "      <td>40.216745</td>\n",
       "      <td>40.673236</td>\n",
       "      <td>0.320955</td>\n",
       "      <td>4.846308</td>\n",
       "      <td>23.486704</td>\n",
       "    </tr>\n",
       "    <tr>\n",
       "      <th>Stelasyn</th>\n",
       "      <td>54.233149</td>\n",
       "      <td>52.431737</td>\n",
       "      <td>0.573111</td>\n",
       "      <td>7.710419</td>\n",
       "      <td>59.450562</td>\n",
       "    </tr>\n",
       "    <tr>\n",
       "      <th>Zoniferol</th>\n",
       "      <td>53.236507</td>\n",
       "      <td>51.818479</td>\n",
       "      <td>0.516398</td>\n",
       "      <td>6.966589</td>\n",
       "      <td>48.533355</td>\n",
       "    </tr>\n",
       "  </tbody>\n",
       "</table>\n",
       "</div>"
      ],
      "text/plain": [
       "             Tumor Volume (mm3)                                          \n",
       "                           mean     median       sem       std        var\n",
       "Drug Regimen                                                             \n",
       "Capomulin             40.675741  41.557809  0.329346  4.994774  24.947764\n",
       "Ceftamin              52.591172  51.776157  0.469821  6.268188  39.290177\n",
       "Infubinol             52.884795  51.820584  0.492236  6.567243  43.128684\n",
       "Ketapril              55.235638  53.698743  0.603860  8.279709  68.553577\n",
       "Naftisol              54.331565  52.509285  0.596466  8.134708  66.173479\n",
       "Placebo               54.033581  52.288934  0.581331  7.821003  61.168083\n",
       "Propriva              52.320930  50.446266  0.544332  6.622085  43.852013\n",
       "Ramicane              40.216745  40.673236  0.320955  4.846308  23.486704\n",
       "Stelasyn              54.233149  52.431737  0.573111  7.710419  59.450562\n",
       "Zoniferol             53.236507  51.818479  0.516398  6.966589  48.533355"
      ]
     },
     "execution_count": 19,
     "metadata": {},
     "output_type": "execute_result"
    }
   ],
   "source": [
    "# Generate a summary statistics table of mean, median, variance, standard deviation, and SEM of the tumor volume for each regimen\n",
    "\n",
    "# Using the aggregation method, produce the same summary statistics in a single line\n",
    "#https://pandas.pydata.org/docs/getting_started/intro_tutorials/06_calculate_statistics.html\n",
    "drug_regimen_aggregate = drug_regimen.agg({'Tumor Volume (mm3)': ['mean', 'median', 'sem', 'std', 'var']})\n",
    "drug_regimen_aggregate"
   ]
  },
  {
   "cell_type": "markdown",
   "metadata": {},
   "source": [
    "## Bar and Pie Charts"
   ]
  },
  {
   "cell_type": "code",
   "execution_count": 20,
   "metadata": {},
   "outputs": [
    {
     "data": {
      "text/plain": [
       "<function matplotlib.pyplot.show(close=None, block=None)>"
      ]
     },
     "execution_count": 20,
     "metadata": {},
     "output_type": "execute_result"
    },
    {
     "data": {
      "image/png": "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\n",
      "text/plain": [
       "<Figure size 432x288 with 1 Axes>"
      ]
     },
     "metadata": {
      "needs_background": "light"
     },
     "output_type": "display_data"
    }
   ],
   "source": [
    "# Generate a bar plot showing the total number of measurements taken on each drug regimen using pyplot.\n",
    "%matplotlib inline\n",
    "import numpy as np\n",
    "\n",
    "drug_labels = clean_merge_df[\"Drug Regimen\"].value_counts()\n",
    "y_axis = clean_merge_df[\"Drug Regimen\"].value_counts()\n",
    "x_axis = np.arange(0,len(y_axis),1)\n",
    "drug_axis = drug_labels.index\n",
    "\n",
    "plt.bar(drug_axis, y_axis, color = 'b', alpha = 0.5, align = \"center\", width = .5)\n",
    "\n",
    "plt.xlabel(\"Drug Regimen\")\n",
    "plt.ylabel(\"Total # of Measurements\")\n",
    "plt.title(\"Total # of Measurements per Drug Regimen\")\n",
    "plt.xticks(rotation=45)\n",
    "\n",
    "plt.show"
   ]
  },
  {
   "cell_type": "code",
   "execution_count": 21,
   "metadata": {},
   "outputs": [
    {
     "data": {
      "text/plain": [
       "<AxesSubplot:title={'center':'Total # of Measurements per Drug Regimen'}, xlabel='Drug Regemin', ylabel='Total # of Measurements'>"
      ]
     },
     "execution_count": 21,
     "metadata": {},
     "output_type": "execute_result"
    },
    {
     "data": {
      "image/png": "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\n",
      "text/plain": [
       "<Figure size 720x432 with 1 Axes>"
      ]
     },
     "metadata": {
      "needs_background": "light"
     },
     "output_type": "display_data"
    }
   ],
   "source": [
    "# Generate a bar plot showing the total number of measurements taken on each drug regimen using pandas.\n",
    "\n",
    "pandas_group = clean_merge_df.groupby(['Drug Regimen'])\n",
    "ax = pandas_group['Tumor Volume (mm3)'].count()\n",
    "ax.plot(kind='bar', xlabel='Drug Regemin', ylabel='Total # of Measurements',\n",
    "                                                    title='Total # of Measurements per Drug Regimen', rot=45, figsize=(10,6))"
   ]
  },
  {
   "cell_type": "code",
   "execution_count": 22,
   "metadata": {},
   "outputs": [
    {
     "data": {
      "text/plain": [
       "<AxesSubplot:title={'center':'Distribution of female vs male mice'}, ylabel='Sex'>"
      ]
     },
     "execution_count": 22,
     "metadata": {},
     "output_type": "execute_result"
    },
    {
     "data": {
      "image/png": "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\n",
      "text/plain": [
       "<Figure size 576x576 with 1 Axes>"
      ]
     },
     "metadata": {},
     "output_type": "display_data"
    }
   ],
   "source": [
    "# Generate a pie plot showing the distribution of female versus male mice using pandas\n",
    "\n",
    "clean_merge_df.drop_duplicates(subset='Mouse ID', keep = 'first')['Sex'].value_counts()\\\n",
    "    .plot(kind='pie', y='Sex', shadow=True, figsize=(8,8), autopct='%1.1f%%', title = \"Distribution of female vs male mice\")"
   ]
  },
  {
   "cell_type": "code",
   "execution_count": 23,
   "metadata": {},
   "outputs": [
    {
     "data": {
      "text/plain": [
       "([<matplotlib.patches.Wedge at 0x1875c9a7bb0>,\n",
       "  <matplotlib.patches.Wedge at 0x1875c9b42b0>],\n",
       " [Text(-0.013934097579311132, 1.0999117423341975, 'Male'),\n",
       "  Text(0.013934097579310996, -1.0999117423341975, 'Female')],\n",
       " [Text(-0.007600416861442434, 0.5999518594550168, '50.4%'),\n",
       "  Text(0.007600416861442361, -0.5999518594550168, '49.6%')])"
      ]
     },
     "execution_count": 23,
     "metadata": {},
     "output_type": "execute_result"
    },
    {
     "data": {
      "image/png": "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\n",
      "text/plain": [
       "<Figure size 576x576 with 1 Axes>"
      ]
     },
     "metadata": {},
     "output_type": "display_data"
    }
   ],
   "source": [
    "# Generate a pie plot showing the distribution of female versus male mice using pyplot\n",
    "distribution = clean_merge_df.drop_duplicates(subset = 'Mouse ID', keep = 'first')['Sex'].value_counts()\n",
    "\n",
    "distribution_values = distribution.values\n",
    "distribution_labels = distribution.index\n",
    "\n",
    "plt.figure(figsize = (8, 8))\n",
    "plt.title('Distribution of female vs male mice')\n",
    "plt.pie(distribution_values, labels = distribution_labels, autopct='%1.1f%%')\n"
   ]
  },
  {
   "cell_type": "markdown",
   "metadata": {},
   "source": [
    "## Quartiles, Outliers and Boxplots"
   ]
  },
  {
   "cell_type": "code",
   "execution_count": 41,
   "metadata": {},
   "outputs": [
    {
     "data": {
      "text/html": [
       "<div>\n",
       "<style scoped>\n",
       "    .dataframe tbody tr th:only-of-type {\n",
       "        vertical-align: middle;\n",
       "    }\n",
       "\n",
       "    .dataframe tbody tr th {\n",
       "        vertical-align: top;\n",
       "    }\n",
       "\n",
       "    .dataframe thead th {\n",
       "        text-align: right;\n",
       "    }\n",
       "</style>\n",
       "<table border=\"1\" class=\"dataframe\">\n",
       "  <thead>\n",
       "    <tr style=\"text-align: right;\">\n",
       "      <th></th>\n",
       "      <th>Mouse ID</th>\n",
       "      <th>Timepoint</th>\n",
       "      <th>Drug Regimen</th>\n",
       "      <th>Sex</th>\n",
       "      <th>Age_months</th>\n",
       "      <th>Weight (g)</th>\n",
       "      <th>Tumor Volume (mm3)</th>\n",
       "      <th>Metastatic Sites</th>\n",
       "    </tr>\n",
       "  </thead>\n",
       "  <tbody>\n",
       "    <tr>\n",
       "      <th>0</th>\n",
       "      <td>k403</td>\n",
       "      <td>45</td>\n",
       "      <td>Ramicane</td>\n",
       "      <td>Male</td>\n",
       "      <td>21</td>\n",
       "      <td>16</td>\n",
       "      <td>22.050126</td>\n",
       "      <td>1</td>\n",
       "    </tr>\n",
       "    <tr>\n",
       "      <th>1</th>\n",
       "      <td>s185</td>\n",
       "      <td>45</td>\n",
       "      <td>Capomulin</td>\n",
       "      <td>Female</td>\n",
       "      <td>3</td>\n",
       "      <td>17</td>\n",
       "      <td>23.343598</td>\n",
       "      <td>1</td>\n",
       "    </tr>\n",
       "    <tr>\n",
       "      <th>2</th>\n",
       "      <td>x401</td>\n",
       "      <td>45</td>\n",
       "      <td>Capomulin</td>\n",
       "      <td>Female</td>\n",
       "      <td>16</td>\n",
       "      <td>15</td>\n",
       "      <td>28.484033</td>\n",
       "      <td>0</td>\n",
       "    </tr>\n",
       "    <tr>\n",
       "      <th>3</th>\n",
       "      <td>m601</td>\n",
       "      <td>45</td>\n",
       "      <td>Capomulin</td>\n",
       "      <td>Male</td>\n",
       "      <td>22</td>\n",
       "      <td>17</td>\n",
       "      <td>28.430964</td>\n",
       "      <td>1</td>\n",
       "    </tr>\n",
       "    <tr>\n",
       "      <th>4</th>\n",
       "      <td>g791</td>\n",
       "      <td>45</td>\n",
       "      <td>Ramicane</td>\n",
       "      <td>Male</td>\n",
       "      <td>11</td>\n",
       "      <td>16</td>\n",
       "      <td>29.128472</td>\n",
       "      <td>1</td>\n",
       "    </tr>\n",
       "    <tr>\n",
       "      <th>...</th>\n",
       "      <td>...</td>\n",
       "      <td>...</td>\n",
       "      <td>...</td>\n",
       "      <td>...</td>\n",
       "      <td>...</td>\n",
       "      <td>...</td>\n",
       "      <td>...</td>\n",
       "      <td>...</td>\n",
       "    </tr>\n",
       "    <tr>\n",
       "      <th>243</th>\n",
       "      <td>z314</td>\n",
       "      <td>5</td>\n",
       "      <td>Stelasyn</td>\n",
       "      <td>Female</td>\n",
       "      <td>21</td>\n",
       "      <td>28</td>\n",
       "      <td>45.934712</td>\n",
       "      <td>0</td>\n",
       "    </tr>\n",
       "    <tr>\n",
       "      <th>244</th>\n",
       "      <td>z435</td>\n",
       "      <td>10</td>\n",
       "      <td>Propriva</td>\n",
       "      <td>Female</td>\n",
       "      <td>12</td>\n",
       "      <td>26</td>\n",
       "      <td>48.710661</td>\n",
       "      <td>0</td>\n",
       "    </tr>\n",
       "    <tr>\n",
       "      <th>245</th>\n",
       "      <td>z581</td>\n",
       "      <td>45</td>\n",
       "      <td>Infubinol</td>\n",
       "      <td>Female</td>\n",
       "      <td>24</td>\n",
       "      <td>25</td>\n",
       "      <td>62.754451</td>\n",
       "      <td>3</td>\n",
       "    </tr>\n",
       "    <tr>\n",
       "      <th>246</th>\n",
       "      <td>z795</td>\n",
       "      <td>45</td>\n",
       "      <td>Naftisol</td>\n",
       "      <td>Female</td>\n",
       "      <td>13</td>\n",
       "      <td>29</td>\n",
       "      <td>65.741070</td>\n",
       "      <td>3</td>\n",
       "    </tr>\n",
       "    <tr>\n",
       "      <th>247</th>\n",
       "      <td>z969</td>\n",
       "      <td>45</td>\n",
       "      <td>Naftisol</td>\n",
       "      <td>Male</td>\n",
       "      <td>9</td>\n",
       "      <td>30</td>\n",
       "      <td>73.867845</td>\n",
       "      <td>4</td>\n",
       "    </tr>\n",
       "  </tbody>\n",
       "</table>\n",
       "<p>248 rows × 8 columns</p>\n",
       "</div>"
      ],
      "text/plain": [
       "    Mouse ID  Timepoint Drug Regimen     Sex  Age_months  Weight (g)  \\\n",
       "0       k403         45     Ramicane    Male          21          16   \n",
       "1       s185         45    Capomulin  Female           3          17   \n",
       "2       x401         45    Capomulin  Female          16          15   \n",
       "3       m601         45    Capomulin    Male          22          17   \n",
       "4       g791         45     Ramicane    Male          11          16   \n",
       "..       ...        ...          ...     ...         ...         ...   \n",
       "243     z314          5     Stelasyn  Female          21          28   \n",
       "244     z435         10     Propriva  Female          12          26   \n",
       "245     z581         45    Infubinol  Female          24          25   \n",
       "246     z795         45     Naftisol  Female          13          29   \n",
       "247     z969         45     Naftisol    Male           9          30   \n",
       "\n",
       "     Tumor Volume (mm3)  Metastatic Sites  \n",
       "0             22.050126                 1  \n",
       "1             23.343598                 1  \n",
       "2             28.484033                 0  \n",
       "3             28.430964                 1  \n",
       "4             29.128472                 1  \n",
       "..                  ...               ...  \n",
       "243           45.934712                 0  \n",
       "244           48.710661                 0  \n",
       "245           62.754451                 3  \n",
       "246           65.741070                 3  \n",
       "247           73.867845                 4  \n",
       "\n",
       "[248 rows x 8 columns]"
      ]
     },
     "execution_count": 41,
     "metadata": {},
     "output_type": "execute_result"
    }
   ],
   "source": [
    "# Calculate the final tumor volume of each mouse across four of the treatment regimens:  \n",
    "# Capomulin, Ramicane, Infubinol, and Ceftamin\n",
    "\n",
    "# Start by getting the last (greatest) timepoint for each mouse\n",
    "final_volume = clean_merge_df.drop_duplicates(subset = 'Mouse ID', keep = 'last')\n",
    "final_volume = final_volume[['Mouse ID', 'Timepoint']]\n",
    "\n",
    "# Merge this group df with the original dataframe to get the tumor volume at the last timepoint\n",
    "final_volume_time = pd.merge(final_volume, clean_merge_df, how='left', on=['Mouse ID', 'Timepoint'])\n",
    "final_volume_time"
   ]
  },
  {
   "cell_type": "code",
<<<<<<< HEAD
   "execution_count": 43,
   "metadata": {},
   "outputs": [
    {
     "name": "stdout",
     "output_type": "stream",
     "text": [
      "Potential outliers for Capomulin\n",
      "The lower quartile of the final tumor volume is 32.37735684\n",
      "The upper quartile of the final tumor volume is 40.1592203\n",
      "The IQR is 7.781863460000004\n",
      "The lower boundary is 20.70456164999999\n",
      "The upper boundary is 51.83201549\n",
      "----------------------------------------\n",
      "Potential outliers for Ramicane\n",
      "The lower quartile of the final tumor volume is 31.56046955\n",
      "The upper quartile of the final tumor volume is 40.65900627\n",
      "The IQR is 9.098536719999998\n",
      "The lower boundary is 17.912664470000003\n",
      "The upper boundary is 54.30681135\n",
      "----------------------------------------\n",
      "Potential outliers for Infubinol\n",
      "The lower quartile of the final tumor volume is 54.04860769\n",
      "The upper quartile of the final tumor volume is 65.52574285\n",
      "The IQR is 11.477135160000003\n",
      "The lower boundary is 36.83290494999999\n",
      "The upper boundary is 82.74144559000001\n",
      "----------------------------------------\n",
      "Potential outliers for Ceftamin\n",
      "The lower quartile of the final tumor volume is 48.72207785\n",
      "The upper quartile of the final tumor volume is 64.29983003\n",
      "The IQR is 15.577752179999997\n",
      "The lower boundary is 25.355449580000002\n",
      "The upper boundary is 87.66645829999999\n",
      "----------------------------------------\n"
     ]
    }
   ],
   "source": [
=======
   "execution_count": 224,
   "metadata": {},
   "outputs": [
    {
     "data": {
      "text/plain": [
       "<function matplotlib.pyplot.show>"
      ]
     },
     "execution_count": 224,
     "metadata": {},
     "output_type": "execute_result"
    },
    {
     "data": {
      "image/png": "iVBORw0KGgoAAAANSUhEUgAAAYgAAAE5CAYAAACK1bf2AAAABHNCSVQICAgIfAhkiAAAAAlwSFlz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\nRK5CYII=\n",
      "text/plain": [
       "<matplotlib.figure.Figure at 0x1b2cd0c1588>"
      ]
     },
     "metadata": {},
     "output_type": "display_data"
    }
   ],
   "source": [
    "# Generate a bar plot showing the total number of measurements taken on each drug regimen using pyplot.\n",
    "%matplotlib inline\n",
    "import numpy as np\n",
    "\n",
    "drug_labels = clean_merge_df[\"Drug Regimen\"].value_counts()\n",
    "y_axis = clean_merge_df[\"Drug Regimen\"].value_counts()\n",
    "x_axis = np.arange(0,len(y_axis),1)\n",
    "drug_axis = drug_labels.index\n",
    "\n",
    "plt.bar(drug_axis, y_axis, color = 'b', alpha = 0.5, align = \"center\", width = .5)\n",
    "\n",
    "plt.xlabel(\"Drug Regimen\")\n",
    "plt.ylabel(\"Total # of Measurements\")\n",
    "plt.title(\"Total # of Measurements per Drug Regimen\")\n",
    "plt.xticks(rotation=45)\n",
    "\n",
    "plt.show"
   ]
  },
  {
   "cell_type": "code",
   "execution_count": 219,
   "metadata": {},
   "outputs": [],
   "source": [
    "# Generate a bar plot showing the total number of measurements taken on each drug regimen using pandas.\n",
    "\n"
   ]
  },
  {
   "cell_type": "code",
   "execution_count": 11,
   "metadata": {
    "collapsed": true
   },
   "outputs": [],
   "source": [
    "# Generate a pie plot showing the distribution of female versus male mice using pandas\n",
    "\n"
   ]
  },
  {
   "cell_type": "code",
   "execution_count": 12,
   "metadata": {
    "collapsed": true
   },
   "outputs": [],
   "source": [
    "# Generate a pie plot showing the distribution of female versus male mice using pyplot\n",
    "\n"
   ]
  },
  {
   "cell_type": "markdown",
   "metadata": {},
   "source": [
    "## Quartiles, Outliers and Boxplots"
   ]
  },
  {
   "cell_type": "code",
   "execution_count": 13,
   "metadata": {
    "collapsed": true
   },
   "outputs": [],
   "source": [
    "# Calculate the final tumor volume of each mouse across four of the treatment regimens:  \n",
    "# Capomulin, Ramicane, Infubinol, and Ceftamin\n",
    "\n",
    "# Start by getting the last (greatest) timepoint for each mouse\n",
    "\n",
    "\n",
    "# Merge this group df with the original dataframe to get the tumor volume at the last timepoint\n"
   ]
  },
  {
   "cell_type": "code",
   "execution_count": 14,
   "metadata": {
    "collapsed": true
   },
   "outputs": [],
   "source": [
>>>>>>> 49ee19efd99fb49d87015123692dafd433582f54
    "# Put treatments into a list for for loop (and later for plot labels)\n",
    "regimens = [\"Capomulin\", \"Ramicane\", \"Infubinol\", \"Ceftamin\"]\n",
    "\n",
    "# Create empty list to fill with tumor vol data (for plotting)\n",
    "tumor_volume = []\n",
    "\n",
    "# Calculate the IQR and quantitatively determine if there are any potential outliers. \n",
    "\n",
    "    \n",
    "    # Locate the rows which contain mice on each drug and get the tumor volumes\n",
    "for regimen in regimens:    \n",
    "    tumor_volumes = final_volume_time.loc[final_volume_time['Drug Regimen'].isin([regimen])]['Tumor Volume (mm3)']\n",
    "        \n",
    "    # add subset \n",
    "    tumor_volume.append(tumor_volumes)\n",
    "    \n",
    "    #quartiles, lower and upper quartiles, iqr\n",
    "    quartiles = tumor_volumes.quantile([0.25,0.5,0.75])\n",
    "    lowerq = quartiles[0.25]\n",
    "    upperq = quartiles[0.75]\n",
    "    iqr = upperq - lowerq\n",
    "    \n",
    "    # Determine outliers using upper and lower bounds\n",
    "    lower_bound = lowerq - (1.5 * iqr)\n",
    "    upper_bound = upperq + (1.5 * iqr)\n",
    "    \n",
    "    print(f\"Potential outliers for {regimen}\")\n",
    "    print(f\"The lower quartile of the final tumor volume is {lowerq}\")\n",
    "    print(f\"The upper quartile of the final tumor volume is {upperq}\")\n",
    "    print(f\"The IQR is {iqr}\")\n",
    "    print(f\"The lower boundary is {lower_bound}\")\n",
    "    print(f\"The upper boundary is {upper_bound}\")\n",
    "    print(f\"----------------------------------------\")"
   ]
  },
  {
   "cell_type": "code",
   "execution_count": 47,
   "metadata": {},
   "outputs": [
    {
     "data": {
      "image/png": "iVBORw0KGgoAAAANSUhEUgAAAnAAAAJfCAYAAAD/6etAAAAAOXRFWHRTb2Z0d2FyZQBNYXRwbG90bGliIHZlcnNpb24zLjMuMiwgaHR0cHM6Ly9tYXRwbG90bGliLm9yZy8vihELAAAACXBIWXMAAAsTAAALEwEAmpwYAAAs8ElEQVR4nO3de5gld10u+vdLEghoEmZkwAhCADk8IHINCIJIuKmogFxFcQeIslW2oB5RMCoXTwD1yFa8oNEY4g3lFrkcFIGdRIMoJBCIGDRHEHQbkgAjE5GEXL77j1UjTejVXTOT6jU1/fk8z3rWquq1qt9Jr/R6u6p+9avuDgAA83GjVQcAAGDfKHAAADOjwAEAzIwCBwAwMwocAMDMKHAAADNz+KoDjHGLW9yijzvuuFXHAADYMueff/4nu3vXel+bRYE77rjjct555606BgDAlqmqjy37mkOoAAAzo8ABAMyMAgcAMDMKHADAzChwAAAzo8ABAMyMAgcAMDMKHADAzChwAAAzo8ABAMyMAgcAMDMKHADAzChwAAAzo8ABAMyMAgcAMDMKHADAzChwAAAzo8ABAMyMAgcAMDMKHADAzChwAAAzo8ABAMyMAgcAMDMKHADAzBy+6gAArE5VrTpCunvVEWB2FDiAbexAy1NVKWCwAg6hAgDMjAIHADAzChwAwMwocAAAM6PAAQDMjAIHADAzChwAwMwocAAAM6PAAQDMjAIHADAzChwAwMwocAAAM6PAAQDMjAIHADAzChwAwMwocAAAM6PAAQDMjAIHADAzkxW4qrpzVV2w5ranqn6kqnZW1dur6uLhfsdUGQAADkWTFbju/ofuvmd33zPJfZL8Z5IzkzwvyTu7+05J3jksAwAw0lYdQn1Ykn/q7o8leUySM4b1ZyR57BZlAAA4JGxVgfuuJK8eHt+quy9JkuH+luu9oKqeWVXnVdV5l19++RbFBAA4+E1e4KrqxkkeneS1+/K67j61u4/v7uN37do1TTgAgBnaij1w35rkfd196bB8aVUdmyTD/WVbkAEA4JCxFQXuKfnC4dMkeVOSE4fHJyZ54xZkAAA4ZExa4KrqZkkekeQNa1a/LMkjquri4WsvmzIDAMCh5vApN97d/5nkK6637lNZjEoFAGA/mIkBAGBmFDgAgJlR4AAAZkaBAwCYGQUOAGBmJh2FCgAcuqpq1RHS3auOsBIKHACwXw60PFXVti1gB8ohVACAmVHgAABmRoEDAJgZBQ4AYGYUOACAmVHgAABmRoEDAJgZBQ4AYGYUOACAmVHgAABmRoEDAJgZBQ4AYGYUOACAmVHgAABmRoEDAJgZBQ4AYGYUOACAmVHgAABmRoEDAJgZBQ4AYGYUOACAmVHgAABmRoEDAJgZBQ4AYGYUOACAmVHgAABmRoEDAJgZBQ4AYGYUOACAmVHgAABmRoEDAJgZBQ4AYGYUOACAmVHgAABm5vBVBwBg/+3cuTO7d+9eaYaqWtn33rFjRz796U+v7PvDqihwADO2e/fudPeqY6zMKssjrJJDqAAAM6PAAQDMjAIHADAzChwAwMwocAAAM6PAAQDMjAIHADAzChwAwMwocAAAM6PAAQDMjAIHADAz5kIFgG1q586d2b1790ozrHI+2x07duTTn/70yr7/gVDgAGCb2r17d7p71TFWZpXl8UA5hAoAMDMKHADAzChwAAAzo8ABAMyMAgcAMDMKHADAzChwAAAzo8ABAMyMAgcAMDMKHADAzChwAAAzo8ABAMyMAgcAMDMKHADAzChwAAAzo8ABAMyMAgcAMDMKHADAzChwAAAzo8ABAMyMAgcAMDMKHADAzGxa4Krq98esAwBga4zZA/e1axeq6rAk95kmDgAAm1la4Krq+VV1RZK7V9We4XZFksuSvHHLEgIA8EWWFrjufml3H5XkF7v76OF2VHd/RXc/fwszAgCwxphDqG+pqi9Lkqp6alW9vKpuN3EuAACWGFPgXpnkP6vqHkl+IsnHkvzepKkAAFhqTIG7prs7yWOS/Ep3/0qSo6aNBQDAMoePeM4VVfX8JN+b5BuHUahHTBsLAIBlxuyBe3KSq5I8o7s/keTWSX5x0lQAACy1aYEbStvrk9xkWPXJJGdOGQoAgOXGzMTw/Ulel+S3hlW3TvKnE2YCAGADYw6hPivJA5PsSZLuvjjJLacMBQDAcmMK3FXd/fm9C1V1eJKeLhIAABsZU+DOqaqfSnLTqnpEktcmefO0sQAAWGZMgfvJJJcnuTDJf0/y1iQ/PWUoAACW2/A6cFV1oyQf7O67JfntrYkEAMBGNtwD193XJflAVd12i/IAALCJMTMxHJvkQ1X1niSf3buyux+92Qur6uZJfifJ3bIY+PCMJP+Q5E+SHJfkn5M8qbt372NuAIBta0yBe9EBbP9Xkvx5dz+hqm6c5GZJfirJO7v7ZVX1vCTPy+I8OwAARti0wHX3OVV1uyR36u53VNXNkhy22euq6ugkD07ytGE7n0/y+ap6TJKHDE87I8nZUeAA9ku/4OjkhcesOsbK9AuOXnUEWIlNC9wwE8Mzk+xMcscsZmL4zSQP2+Sld8hi9OrpVXWPJOcneU6SW3X3JUnS3ZdUlYsCA+ynetGedG/fS3NWVfqFq04BW2/KmRgOT3LvJK/s7ntlcf7c88YGq6pnVtV5VXXe5ZdfPvZlAACHvDHnwF3V3Z+vqiT7NBPDvyb51+7+22H5dVkUuEur6thh79uxSS5b78XdfWqSU5Pk+OOP375/XgLARByCn+8h+DEF7vozMfxQRszE0N2fqKp/qao7d/c/ZHHI9e+H24lJXjbcv3G/0wMA+80h+Pkegh9T4J6X5KSsmYmhu8de1PeHk/zhMAL1I0mensVh29dU1UlJPp7kifucGgBgGxtT4H64u38la2ZiqKrnDOs21N0XJDl+nS9tNgACAIAlxgxiOHGddU+7gXMAADDS0j1wVfWUJN+d5PZV9aY1XzoqyaemDgYAwPo2OoT610kuSXKLJL+0Zv0VST44ZSgAAJZbWuC6+2NJPpbkAVsXBwCAzWx6DlxVPa6qLq6qz1TVnqq6oqr2bEU4AAC+1JhRqL+Q5Du6+6KpwwAAsLkxo1AvVd4AAA4eY/bAnVdVf5LkT5NctXdld79hqlAAACw3psAdneQ/kzxyzbpOosABAKzApgWuu5++FUEAABhnowv5/kR3/0JV/WoWe9y+SHc/e9JkAACsa6M9cHsHLpy3FUEAABhnowv5vnm4P2Pr4gAAsJkxlxEBAOAgosABAMzM0gJXVT8/3D9x6+IAALCZjfbAPaqqjkjy/K0KAwDA5jYahfrnST6Z5MuGyesri8uJVJLu7qO3IB8AANezdA9cdz+3u49J8v9199HdfdTa+y3MCADAGmNmYnhMVd0qyX2HVX/b3ZdPGwsAgGU2HYU6DGJ4T5InJnlSkvdU1ROmDgYAwPrGTGb/00nu292XJUlV7UryjiSvmzIYAADrG3MduBvtLW+DT418HQAAExizB+7Pq+ptSV49LD85yVuniwQAwEbGDGJ4blU9LsmDsriEyKndfebkyQAAWNeYPXDp7jckecPEWQAAGMG5bAAAM6PAAQDMzD4VuKraUVV3nyoMAACbG3Mh37Or6uiq2pnkA0lOr6qXTx8NAID1jNkDd0x370nyuCSnd/d9kjx82lgAACwzpsAdXlXHZjGN1lsmzgMAwCbGFLgXJ3lbkv+/u99bVXdIcvG0sQAAWGbMhXxfm+S1a5Y/kuTxU4YCAGC5TQvcMHn99yc5bu3zu/sZ08UCAGCZMTMxvDHJXyV5R5Jrp40DAMBmxhS4m3X3T06eBACAUcYMYnhLVT1q8iQAAIwypsA9J4sSd2VV7amqK6pqz9TBAABY35hRqEdtRRAAAMYZM5VWVdVTq+pnhuWvrqr7TR8NAID1jDmE+htJHpDku4fl/0jy65MlAgBgQ2NGoX59d9+7qt6fJN29u6puPHEuAACWGLMH7uqqOixJJ/91Yd/rJk0FAMBSYwrcK5KcmeSWVXVKknOTvGTSVAAALDVmFOofVtX5SR6WpJI8trsvmjwZAADrGnMOXJJcmsV0WocnuWlV3bu73zddLAAAlhkzmf3PJXlakn/KcB7ccP/Q6WIBALDMmD1wT0pyx+7+/NRhAADY3JhBDH+X5OYT5wAAYKQxe+BemuT9VfV3Sa7au7K7Hz1ZKgAAlhpT4M5I8vNJLozrvwEArNyYAvfJ7n7F5EkAABhlTIE7v6pemuRN+eJDqC4jAgCwAmMK3L2G+/uvWecyIgAAKzJmJoYTtiIIAADjLC1wVfXU7v6Dqvqx9b7e3S+fLhYAAMtstAfuy4b7o7YiCAD7p6pWHWFlduzYseoIsBJLC1x3/9Zw/6KtiwPAvujuzZ80oapaeQbYjsbMhbreJUQ+k+S87n7jDR8JAICNjJlK68gk90xy8XC7e5KdSU6qql+eLBkAAOsacxmRr0ny0O6+Jkmq6pVJ/iLJI7KYnQEAgC00Zg/crfOFAQ0ZHn9Vd1+bNRf2BQBga4zZA/cLSS6oqrOTVJIHJ3lJVX1ZkndMmA0AgHWMuZDvaVX11iT3y6LA/VR3/9vw5edOGQ4AgC+16SHUWlxg6GFJ7tHdf5rk8Kq639TBAABY35hz4H4jyQOSPGVYviLJr0+WCACADY05B+7ru/veVfX+JOnu3VV144lzAQCwxJg9cFdX1WFJOkmqaleS6yZNBQDAUmMK3CuSnJnkllV1SpJzk7xk0lQAACy14SHUqrpRko8m+YksBjJUksd290VbkA0AgHVsWOC6+7qq+qXufkCSD29RJgAANjDmEOpfVNXjh8uJAACwYmNGof5YFtNnXVNVV2ZxGLW7++hJkwEAsK4xMzEctRVBAAAYZ8whVAAADiIKHADAzChwAAAzM2Yy+ztW1U2Gxw+pqmdX1c0nTwYAwLrG7IF7fZJrq+prkpyW5PZJ/mjSVAAALDWmwF3X3dck+c4kv9zdP5rk2GljAQCwzNjJ7J+S5MQkbxnWHTFdJAAANjKmwD09yQOSnNLdH62q2yf5g2ljAQCwzJgL+f59kmcnSVXtSHJUd79s6mAAAKxvzCjUs6vq6KrameQDSU6vqpdPHw0AgPWMOYR6THfvSfK4JKd3932SPHzaWAAALDOmwB1eVccmeVK+MIgBAIAVGVPgXpzkbUn+qbvfW1V3SHLxtLEAAFhmzCCG1yZ57ZrljyR5/JShAABYbswghttU1ZlVdVlVXVpVr6+q22xFOAAAvtSYQ6inJ3lTkq9Kcuskbx7WAQCwAmMK3K7uPr27rxlur0qya+JcAAAsMabAfbKqnlpVhw23pyb51NTBAABY35gC94wsLiHyiSSXJHnCsA4AgBXYcBRqVR2W5CXd/egtygMAwCY2LHDdfW1V7aqqG3f35/d141X1z0muSHJtkmu6+/hhSq4/SXJckn9O8qTu3r2v2wYA2K42vQ5cFiXrXVX1piSf3buyu8fOh3pCd39yzfLzkryzu19WVc8bln9y5LYAALa9MQXu34bbjZIcdQN8z8ckecjw+IwkZ0eBAwAYbcxMDC86gO13kr+oqk7yW919apJbdfclw7YvqapbHsD2AQC2nTEzMby9qm6+ZnlHVb1t5PYf2N33TvKtSZ5VVQ8eG6yqnllV51XVeZdffvnYlwEAHPLGXsj33/cuDAMORu016+5/G+4vS3JmkvslubSqjk2S4f6yJa89tbuP7+7jd+1y3WAAgL3GFLhrq+q2exeq6nZZHBrdUFV9WVUdtfdxkkcm+bsspuU6cXjaiUneuK+hAQC2szGDGE5Ocm5VnTMsPzjJM0e87lZJzqyqvd/nj7r7z6vqvUleU1UnJfl4kifue2wAgO1rzCCGP6+qeye5f5JK8qPXuyzIstd9JMk91ln/qSQP24+sAABk3B64ZHEh3suSHJnkrlWV7v7L6WIBALDMpgWuqr4vyXOS3CbJBVnsiXt3kodOmgwAgHWNGcTwnCT3TfKx7j4hyb2SuK4HAMCKjClwV3b3lUlSVTfp7g8nufO0sQAAWGbMOXD/OlzI90+TvL2qdmcxtRYAACswZhTqdw4PX1hVZyU5JsmfT5oKAIClxo5CTZJ09zmbPwsAgCmNOQcOAICDyD7tgQMADi3DjEnb0o4dO1YdYb+NKnDD/Kd36u53VNVNkxze3VdMGw0AmFL3plObT2qYGGClGeZq00OoVfX9SV6X5LeGVbfJYkQqAAArMOYcuGcleWCSPUnS3RcnueWUoQAAWG5Mgbuquz+/d6GqDk9ifycAwIqMKXDnVNVPJblpVT0iyWuTvHnaWAAALDOmwD0vi7lPL0zy35O8NclPTxkKAIDlxszEcF2S307y21W1M8lt2pARAICVGTMK9eyqOnoobxckOb2qXj55MgAA1jXmEOox3b0nyeOSnN7d90ny8GljAQCwzJgCd3hVHZvkSUneMnEeAAA2MWYmhhcneVuSc7v7vVV1hyQXTxtrezkYpjFxWiMAzMeYQQyvzeLSIXuXP5Lk8VOG2m4OtDyZigQAtpdNC1xVnZ51Ltzb3c+YJBEAABsacwh17XlvRyb5ziT/Nk0cAAA2M+YQ6uvXLlfVq5O8Y7JEAABsaMwo1Ou7U5Lb3tBBAAAYZ8w5cFdkcQ5cDfefSPKTE+cCAGCJMYdQj9qKIAAAjDNmEEOq6tFJHjwsnt3dLugLALAiY+ZCfVmS5yT5++H2nKp66dTBAABY35g9cI9Kcs/uvi5JquqMJO9P8vwpgwEAsL6xo1BvvubxMRPkAABgpDF74F6a5P1VdVYWI1EfHHvfAABWZswo1FdX1dlJ7ptFgfvJ7v7E1MEAAFjf2EOou4b7w5J8Q1U9bqI8AABsYsyFfH83yd2TfCjJdcPqTvKGCXMBALDEmHPg7t/dd508CQAAo4w5hPruqlLgAAAOEmP2wJ2RRYn7RJKrMsyJ2t13nzQZAADrGlPgfjfJ9ya5MF84Bw4AgBUZU+A+3t1vmjwJAACjjClwH66qP0ry5iwOoSZJutsoVICZq6qVb6O7DzgDbDdjCtxNsyhuj1yzzmVEAA4ByhPM05iZGJ6+FUEAABhn7EwMAAAcJBQ4AICZGXMOHHAQuyFOQj9QzqMC2Fpj5kK9SZLHJzlu7fO7+8XTxQLGOtDyVFUKGMDMjNkD98Ykn0lyftZcRgQA2N5chmZ1xhS423T3t0yeBACYle1ang4GYwYx/HVVfd3kSQAAGGXpHriqujCLC/YenuTpVfWRmMweAGDlNjqE+u1blgIAgNGWHkLt7o9198eSHJvk02uWP53kK7cqIAAAX2zMOXCvTPIfa5Y/O6wDAGAFxhS46jXDTLr7urgAMADAyowpcB+pqmdX1RHD7TlJPjJ1MAAA1jemwP1Akm9I8r+T/GuSr0/yzClDAQCw3KaHQrv7siTftQVZAAAYYcxcqEcmOSnJ1yY5cu/67n7GhLkAAFhizCHU38/isiHfnOScJLdJcsWUoQAAWG5Mgfua7v6ZJJ/t7jOSfFsSU2sBAKzImAJ39XD/71V1tyTHJDluskQAAGxozPXcTq2qHUl+Jsmbknx5kp+dNBUAAEuNGYX6O8PDc5LcYdo4AABsZtNDqFV1q6o6rar+bFi+a1WdNH00AADWM+YcuFcleVuSrxqW/zHJj0yUBwCATYwpcLfo7tckuS5JuvuaJNdOmgoAgKXGFLjPVtVXJOkkqar7J/nMpKkAAFhqzCjUH8ti9Okdq+pdSXYlecKkqQAAWGrMKNT3VdU3JblzkkryD9199SYvAwBgImP2wO097+1DE2cBAGCEMefAAQBwEFla4KrqgcP9TbYuDgAAm9loD9wrhvt3b0UQAADG2egcuKur6vQkt66qV1z/i9397OliAQCwzEYF7tuTPDzJQ5OcvzVxAADYzNIC192fTPLHVXVRd39gCzMBALCBMaNQP1VVZ1bVZVV1aVW9vqpuM3kyAADWNabAnZ7FTAxfleTWSd48rAMAYAXGFLhbdvfp3X3NcHtVFtNpAQCwAmMK3OVV9dSqOmy4PTXJp6YOBgDA+sYUuGckeVKSTyS5JIuJ7J8xZSgAAJYbM5n9x5M8eguyAAAwgrlQAQBmRoEDAJgZBQ4AYGY2LXBVdauqOq2q/mxYvmtVnTR9NAAA1jNmD9yrkrwtiwv5Jsk/JvmRifIAALCJMQXuFt39miTXJUl3X5Pk2klTAQCw1JgC99mq+ooknSRVdf8kn5k0FQAAS216HbgkP5bFXKh3rKp3ZTGN1hMmTQUAwFJjLuT7vqr6piR3TlJJ/qG7r548GQAA69q0wFXVYUkeleS44fmPrKp098snzgbbws6dO7N79+6VZqiqlX3vHTt25NOf/vTKvj/AHI05hPrmJFcmuTDDQAbghrN79+5096pjrMwqyyPAXI0pcLfp7rtPngQAgFHGjEL9s6p65ORJAAAYZUyB+5skZ1bV56pqT1VdUVV7xn6Dqjqsqt5fVW8ZlndW1dur6uLhfsf+hgcA2I7GFLhfSvKAJDfr7qO7+6juPnofvsdzkly0Zvl5Sd7Z3XdK8s5hGQCAkcYUuIuT/F3vx1nWVXWbJN+W5HfWrH5MkjOGx2ckeey+bvdgs3PnzlTVym5JVvr9d+7cueKfAABsL2MGMVyS5OxhMvur9q4ceRmRX07yE0mOWrPuVt19ybCNS6rqluu9sKqemeSZSXLb2952xLdaHaMIjSIEgK00Zg/cR7M41HnjLIrY3tuGqurbk1zW3efvT7DuPrW7j+/u43ft2rU/mwAAOCSNmYnhRfu57QcmeXRVPSrJkUmOrqo/SHJpVR077H07Nsll+7l9AIBtacxMDGdlmMh+re5+6Eav6+7nJ3n+sI2HJPnx7n5qVf1ikhOTvGy4f+M+pwYA2MbGnAP342seH5nk8UmuOYDv+bIkr6mqk5J8PMkTD2BbAADbzphDqNc/h+1dVXXOvnyT7j47ydnD408ledi+vB4AgC8Ycwh17TUibpTkPkm+crJEAABsaMwh1POzOAeusjh0+tEkJ00ZCgCA5cYcQr39VgQBAGCcpQWuqh630Qu7+w03fBwAADaz0R6479jga51EgQMAWIGlBa67n76VQQAAGGfTqbSq6piqenlVnTfcfqmqjtmKcAAAfKkxc6H+bpIrkjxpuO1JcvqUoQAAWG7MZUTu2N2PX7P8oqq6YKI8AABsYsweuM9V1YP2LlTVA5N8brpIAABsZMweuB9Mcsaa8952ZzEJPQAAKzCmwF3Y3feoqqOTpLv3TJwJAIANjDmE+tGqOjXJfbMYzAAAwAqNKXB3TvKOJM/Kosz92tpz4gAA2Fpj5kL9XJLXJHlNVe1I8itJzkly2MTZZqNfcHTywu17abx+wdGrjgAA28qYc+BSVd+U5MlJvjXJe7O4HhyDetGedPeqY6xMVaVfuOoUALB9bFrgquqjSS7IYi/cc7v7s1OHAgBguTF74O5h5CkAwMFj00EMyhsAwMFlzChUAAAOIhsWuKq6UVUZsAAAcBDZsMB193VJ/scWZQEAYIQxh1DfXlU/XlVfXVU7994mTwYAwLrGjEJ9xnD/rDXrOskdbvg4AABsZsxMDLffiiAAAIwz5kK+RyT5wSQPHladneS3uvvqCXMBALDEmEOor0xyRJLfGJa/d1j3fVOFAgBguTEF7r7dfY81y/+rqj4wVSAAADY2ZhTqtVV1x70LVXWHJNdOFwkAgI2M2QP33CRnVdVHklSS2yV5+qSpAABYaswo1HdW1Z2S3DmLAvfh7r5q8mSwTfQLjk5eeMyqY6xMv+DoVUdgP7z61a/OKaeckosuuih3uctdcvLJJ+cpT3nKqmPBtjFmFOphSb45yXHD8x9WVenul0+cDbaFetGedPeqY6xMVaVfuOoU7ItXv/rVOfnkk3PaaaflQQ96UM4999ycdNJJSaLEwRYZcw7cm5M8LclXJDlqzQ2AbeiUU07JaaedlhNOOCFHHHFETjjhhJx22mk55ZRTVh0Nto3a7C//qvpgd999i/Ks6/jjj+/zzjtvlRE2NOyRXHWMldnu//4Dtd3/+233f/8cHXbYYbnyyitzxBFH/Ne6q6++OkceeWSuvdYYN7ihVNX53X38el8bswfuz6rqkTdwJgBm6i53uUvOPffcL1p37rnn5i53ucuKEsH2M6bA/U2SM6vqc1W1p6quqKo9UwcD4OB08skn56STTspZZ52Vq6++OmeddVZOOumknHzyyauOBtvGmMuI/FKSByS5sB3nANj29g5U+OEf/uH/GoV6yimnGMAAW2jMOXBvS/Kt3X3d1kT6Us6BO7ht93//gdru//22+78fYJmNzoEbswfukiRnV9WfJfmv67+5jAgAwGqMKXAfHW43Hm4AAKzQmJkYXrQVQQAAGGfMTAxnJfmSE1S6+6GTJAIAYENjDqH++JrHRyZ5fJJrpokDAMBmxhxCPf96q95VVedMlAcAgE2MOYS6c83ijZLcJ8lXTpYIAIANjTmEen4W58BVFodOP5rkpClDAQCw3JgCd5fuvnLtiqq6yUR5AADYxJi5UP96nXXvvqGDAAAwztI9cFX1lUluneSmVXWvLA6hJsnRSW62BdkAAFjHRodQvznJ05LcJosJ7fcWuD1JfmraWAAALLO0wHX3GUnOqKrHd/frtzATAAAb2PQcOOUNAODgMmYQAwAABxEFDgBgZjYahfq4jV7Y3W+44eMAALCZjUahfscGX+skChwAwApsNAr16VsZBACAccZMpZWq+rYkX5vkyL3ruvvFU4UCAGC5TQcxVNVvJnlykh/O4mK+T0xyu4lzAQCwxJhRqN/Q3f8tye7uflGSByT56mljAQCwzJgC97nh/j+r6quSXJ3k9tNFAgBgI2POgXtLVd08yS8meV8WI1B/Z8pQAAAst2mB6+6fGx6+vqrekuTI7v7MtLEAAFhm7CjUb0hy3N7nV1W6+/cmzAUAwBKbFriq+v0kd0xyQZJrh9WdRIEDAFiBMXvgjk9y1+7uqcMAALC5MaNQ/y7JV04dBACAccbsgbtFkr+vqvckuWrvyu5+9GSpAABYakyBe+HUIQAAGG/MZUTO2YogAACMs7TAVdW53f2gqroii1Gn//WlJN3dR0+eDgCAL7HRHrjvSZLuPmqLsgAAMMJGo1DP3Pugql6/BVkAABhhowJXax7fYeogAACMs9Eh1F7ymHVU1eZPOkTt2LFj1REAYFvZqMDdo6r2ZLEn7qbD48Qghi+x6kkqhrlpV5oBANg6Swtcdx+2lUEAABhnzFRaAAAcRBQ4AICZUeAAAGZGgQMAmBkFDgBgZjadzB6YnusIArAvFDhYsVVfw891BAHmxyFUAICZUeAAAGZGgQMAmBkFDgBgZhQ4AICZUeAAAGZGgQMAmBkFDgBgZhQ4AICZUeAAAGZGgQMAmJnJClxVHVlV76mqD1TVh6rqRcP6nVX19qq6eLg3kzUAwD6Ycg/cVUke2t33SHLPJN9SVfdP8rwk7+zuOyV557AMAMBIkxW4XviPYfGI4dZJHpPkjGH9GUkeO1UGAIBD0aTnwFXVYVV1QZLLkry9u/82ya26+5IkGe5vOWUGAIBDzaQFrruv7e57JrlNkvtV1d3GvraqnllV51XVeZdffvlkGQEA5mZLRqF2978nOTvJtyS5tKqOTZLh/rIlrzm1u4/v7uN37dq1FTEBAGZhylGou6rq5sPjmyZ5eJIPJ3lTkhOHp52Y5I1TZQAAOBQdPuG2j01yRlUdlkVRfE13v6Wq3p3kNVV1UpKPJ3nihBkAAA45kxW47v5gknuts/5TSR421fcFADjUmYkBAGBmFDgAgJlR4AAAZkaBAwCYGQUOAGBmFDgAgJlR4AAAZkaBAwCYGQUOAGBmFDgAgJlR4AAAZkaBAwCYGQUOAGBmFDgAgJlR4AAAZkaBAwCYGQUOAGBmFDgAgJlR4AAAZkaBAwCYGQUOAGBmFDgAgJlR4AAAZkaBAwCYGQUOAGBmFDgAgJlR4AAAZkaBAwCYGQUOAGBmFDgAgJlR4AAAZkaBAwCYGQUOAGBmFDgAgJlR4AAAZkaBAwCYGQUOAGBmFDgAgJlR4AAAZkaBAwCYGQUOAGBmFDgAgJlR4AAAZkaBAwCYGQUOAGBmFDgAgJlR4AAAZkaBAwCYGQUOAGBmFDgAgJlR4AAAZkaBAwCYGQUOAGBmFDgAgJlR4AAAZkaBAwCYGQUOAGBmFDgAgJlR4AAAZkaBAwCYGQUOAGBmFDgAgJlR4AAAZkaBAwCYmcNXHYCkqla+je4+4AwAwNZQ4A4CyhMAsC8cQgUAmBkFDgBgZhQ4AICZUeAAAGZGgQMAmBkFDgBgZhQ4AICZUeAAAGZGgQMAmBkFDgBgZhQ4AICZUeAAAGbGZPYwc1W18m109wFnAGA8BQ5mTnkC2H4cQgUAmBkFDgBgZhQ4AICZUeAAAGZGgQMAmBkFDgBgZhQ4AICZUeAAAGZGgQMAmBkFDgBgZhQ4AICZUeAAAGZGgQMAmBkFDgBgZhQ4AICZmazAVdVXV9VZVXVRVX2oqp4zrN9ZVW+vqouH+x1TZQAAOBRNuQfumiT/d3ffJcn9kzyrqu6a5HlJ3tndd0ryzmEZAICRJitw3X1Jd79veHxFkouS3DrJY5KcMTztjCSPnSoDAMChaEvOgauq45LcK8nfJrlVd1+SLEpekltuRQYAgEPF5AWuqr48yeuT/Eh379mH1z2zqs6rqvMuv/zy6QICAMzMpAWuqo7Iorz9YXe/YVh9aVUdO3z92CSXrffa7j61u4/v7uN37do1ZUwAgFmZchRqJTktyUXd/fI1X3pTkhOHxycmeeNUGQAADkWHT7jtByb53iQXVtUFw7qfSvKyJK+pqpOSfDzJEyfMAABwyJmswHX3uUlqyZcfNtX3BQA41FV3rzrDpqrq8iQfW3WOg9gtknxy1SGYLe8fDoT3DwfC+2djt+vudQcCzKLAsbGqOq+7j191DubJ+4cD4f3DgfD+2X/mQgUAmBkFDgBgZhS4Q8Opqw7ArHn/cCC8fzgQ3j/7yTlwAAAzYw8cAMDMKHATq6qvrKo/rqp/qqq/r6q3VtX/tepce1XV2VV1/PD4rVV18xVH4nqq6tqquqCq/q6q3nxD/Yyq6sVV9fAbYlvMQ1X9x4jnfGNVfWh4z910g+f9c1XdYp31P1BV/20/8z2kqt6yP69levv6eVZVz66qi6rqD6vqsVV11xswy7b/vFLgJjRMJ3ZmkrO7+47dfdcsZqO41WqTra+7H9Xd/77qHHyJz3X3Pbv7bkk+neRZN8RGu/tnu/sdN8S2OKR8T5L/d3jPfW5fX9zdv9ndvzdBLlZoPz/PfijJo7r7e5I8NskNVuB8XilwUzshydXd/Zt7V3T3BUneX1XvrKr3VdWFVfWYJKmq46rqw1V1RlV9sKpeV1U3G772sKp6//D8362qmwzr/7mqXlJV766q86rq3lX1tuEvpB8YnvNFf9VW1a9V1dOuH3bvX9RDjouq6reHv8T/YqO/xNlS705y6ySpqvtV1V8P74u/rqo7D+ufVlV/Ouyt+2hV/Y+q+rHheX9TVTuH572qqp4wPL7vsI0PVNV7quqo4X3wV8P79H1V9Q3Dcx8y7Ll93fB+/cPhl3uq6j5VdU5VnT+8D49dyX8lNrTsZ1hV35fkSUl+dli32e+O5w7vl/dU1dcMz3lhVf348Pjsqvr54ev/WFXfOKw/sqpOH36fvb+qTti6fz37ad3Ps+7+q6p6blW9d/jcelGSVNVvJrlDkjdV1clJHp3kF2uxZ/eOVfX9w2s+UFWvX/NZ96qqemVVnVVVH6mqbxo+8y6qqlft/d4+rxS4qd0tyfnrrL8yyXd2972z+J/il/Z+ACa5c5JTu/vuSfYk+aGqOjLJq5I8ubu/Losp0H5wzfb+pbsfkOSvhuc9Icn9k7z4ALLfKcmvd/fXJvn3JI8/gG1xA6iqw7KYhu5Nw6oPJ3lwd98ryc8mecmap98tyXcnuV+SU5L85/C8dyf5osNbVXXjJH+S5DndfY8kD0/yuSSXJXnE8D59cpJXrHnZvZL8SBZ/Ud8hyQOr6ogkv5rkCd19nyS/O3xvDk5f8jPs7t/J4v313GGvyWb2dPf9kvxakl9e8pzDh+f8SJIXDOuelSTD77OnJDlj+D3HwWvdz7OqemQWnxf3S3LPJPepqgd39w8k+bckJ3T3KfnC++qe3f1PSd7Q3fcdfudclOSkNZvdkeShSX40yZuT/M8kX5vk66rqnutk25afV1NOZs9yleQlVfXgJNdlsUdl727of+nudw2P/yDJs5O8PclHu/sfh/VnZPEL8JeH5b0f6Bcm+fLuviLJFVV1Ze3/OQIfHfYWJov/aY/bz+1w4G5aVRdk8TM4P4v3Q5Ick8UH352SdJIj1rzmrDXvg89k8UswWbxH7n697d85ySXd/d4k6e49SVJVX5bk14ZfmNcmWXuuy3u6+1+H5+3N9u9Z/JJ/+/D3yGFJLtnvfzVTW+9neO4+buPVa+7/55LnvGG4X/t75EFZlP1094er6mP54vcX8/HI4fb+YfnLsyhUf7nJ6+5WVf9PkpsPr3nbmq+9ubu7qi5Mcml3X5gkVfWhLN5DF1xvW9vy80qBm9aHstgbdn3fk2RXkvt099VV9c9J9v71ef3runQWhW8jVw331615vHf58CTX5Iv3to75S3ftdq5Nsi12SR+kPtfd96yqY5K8JYvy/ookP5dFUfvOqjouydlrXnP998Ha98j1/7+vfOn7Lln89Xtpkntk8f65csn2rx22WUk+NOwN5uC33s/w+jb73dFLHq/3fdZ+j81+p3HwWfZ5Vkle2t2/tY/be1WSx3b3B4bD8g9Z87XNPtOub1t+XjmEOq3/leQmVfX9e1dU1X2T3C7JZUN5O2FY3uu2VbX3A/ApWfxF/OEkx+09xyTJ9yY5Zx9yfCzJXavqJkMJeNj+/XNYpe7+TBZ7ZH98OFx5TJL/PXz5aQew6Q8n+arhvZnh/LfDh+1f0t3XZfGeO2yT7fxDkl17379VdURVfe0B5GL1Nvvd8eQ19+/eh+3+ZRZ/yKYWoxhvm8X7h4PXss+zPUmeUVVfPqy7dVXdcp3XX5HkqDXLRyW5ZPhdNuZwPdejwE2oF1dJ/s4kj6jFoIIPJXlhkrcmOb6qzsvijfvhNS+7KMmJVfXBJDuTvLK7r0zy9CSvHXYpX5fkNzNSd/9Lktck+WCSP8wXdnUzM939/iQfSPJdSX4hyUur6l3ZvFxttM3PZ/EB/KtV9YEsDtEemeQ3sngv/k0Wh7c+O2I7T0jy88N2LkjyDfubi9Ub8bvjJlX1t0mek8Ue27F+I8lhw++zP0nytO6+apPXsEIbfJ790XB79/DzfF2+uKjt9cdZDHp5f1XdMcnPJPnbLH7ffHid57MJMzEcRIbDYG8ZLhcBALAue+AAAGbGHjgAgJmxBw4AYGYUOACAmVHgAABmRoEDAJgZBQ4AYGYUOACAmfk/Xsq3lU2bBcAAAAAASUVORK5CYII=\n",
      "text/plain": [
       "<Figure size 576x576 with 1 Axes>"
      ]
     },
     "metadata": {
      "needs_background": "light"
     },
     "output_type": "display_data"
    }
   ],
   "source": [
    "# Generate a box plot of the final tumor volume of each mouse across four regimens of interest\n",
    "fig = plt.figure(figsize = (8, 8))\n",
    "\n",
    "ax = fig.add_axes([0, 0, 1, 1])\n",
    "\n",
    "bp = ax.boxplot(tumor_volume)\n",
    "\n",
    "plt.xticks([1,2,3,4], regimens)\n",
    "plt.ylabel(\"Final tumor volume of each mouse across regimens of interest\")\n",
    "\n",
    "plt.show()"
   ]
  },
  {
   "cell_type": "markdown",
   "metadata": {},
   "source": [
    "## Line and Scatter Plots"
   ]
  },
  {
   "cell_type": "code",
   "execution_count": 65,
   "metadata": {},
   "outputs": [
    {
     "data": {
      "image/png": "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\n",
      "text/plain": [
       "<Figure size 720x720 with 1 Axes>"
      ]
     },
     "metadata": {
      "needs_background": "light"
     },
     "output_type": "display_data"
    }
   ],
   "source": [
    "# Generate a line plot of tumor volume vs. time point for a mouse treated with Capomulin\n",
    "capomulin = clean_merge_df.loc[clean_merge_df['Drug Regimen'] == 'Capomulin']\n",
    "#select a random mouse in the dataframe\n",
    "capomulin_random = capomulin.sample()['Mouse ID']\n",
    "capomulin_mouse = capomulin.loc[capomulin['Mouse ID'].isin(capomulin_random)]\n",
    "\n",
    "plt.figure(figsize = (10, 10))\n",
    "plt.plot(capomulin_mouse['Timepoint'], capomulin_mouse['Tumor Volume (mm3)'])\n",
    "plt.xlabel('Timepoint')\n",
    "plt.ylabel('Tumor Volume (mm3)')\n",
    "plt.title(f'Capomulin treatment of mouse {capomulin_random.values[0]}')\n",
    "plt.show()"
   ]
  },
  {
   "cell_type": "code",
   "execution_count": 72,
   "metadata": {},
   "outputs": [
    {
     "data": {
      "image/png": "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\n",
      "text/plain": [
       "<Figure size 864x576 with 1 Axes>"
      ]
     },
     "metadata": {
      "needs_background": "light"
     },
     "output_type": "display_data"
    }
   ],
   "source": [
    "# Generate a scatter plot of average tumor volume vs. mouse weight for the Capomulin regimen\n",
    "capomulin_average = capomulin.groupby('Mouse ID').mean()\n",
    "\n",
    "plt.figure(figsize = (12, 8))\n",
    "plt.scatter(capomulin_average['Weight (g)'], capomulin_average['Tumor Volume (mm3)'])\n",
    "plt.xlabel('Weight (g)')\n",
    "plt.ylabel('Tumor Volume (mm3)')\n",
    "plt.title('Average tumor volume vs mouse weight for Capomulin regimen')\n",
    "plt.show()"
   ]
  },
  {
   "cell_type": "markdown",
   "metadata": {},
   "source": [
    "## Correlation and Regression"
   ]
  },
  {
   "cell_type": "code",
   "execution_count": 83,
   "metadata": {},
   "outputs": [
    {
     "data": {
      "image/png": "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\n",
      "text/plain": [
       "<Figure size 864x576 with 1 Axes>"
      ]
     },
     "metadata": {
      "needs_background": "light"
     },
     "output_type": "display_data"
    }
   ],
   "source": [
    "# Calculate the correlation coefficient and linear regression model \n",
    "# for mouse weight and average tumor volume for the Capomulin regimen\n",
    "capomulin_average = capomulin.groupby('Mouse ID').mean()\n",
    "\n",
    "plt.figure(figsize = (12, 8))\n",
    "plt.scatter(capomulin_average['Weight (g)'], capomulin_average['Tumor Volume (mm3)'], color='blue')\n",
    "plt.xlabel('Weight (g)')\n",
    "plt.ylabel('Tumor Volume (mm3)')\n",
    "plt.title('Average tumor volume vs mouse weight for Capomulin regimen')\n",
    "\n",
    "x_values = capomulin_average['Weight (g)']\n",
    "y_values = capomulin_average['Tumor Volume (mm3)']\n",
    "\n",
    "slope, intercept, rvalue, pvalue, stderr = linregress(x_values, y_values)\n",
    "regress_values = x_values * slope + intercept\n",
    "\n",
    "line_equation = \"y = \" + str(round(slope, 2)) + \"x + \" + str(round(intercept, 2))\n",
    "plt.scatter(x_values, y_values)\n",
    "plt.plot(x_values, regress_values, \"r-\")\n",
    "plt.annotate(line_equation, (21, 36), color='black', fontsize = 20)\n",
    "plt.show()"
   ]
  },
  {
   "cell_type": "code",
   "execution_count": null,
   "metadata": {
    "collapsed": true
   },
   "outputs": [],
   "source": []
  }
 ],
 "metadata": {
  "anaconda-cloud": {},
  "kernelspec": {
   "display_name": "Python 3",
   "language": "python",
   "name": "python3"
  },
  "language_info": {
   "codemirror_mode": {
    "name": "ipython",
    "version": 3
   },
   "file_extension": ".py",
   "mimetype": "text/x-python",
   "name": "python",
   "nbconvert_exporter": "python",
   "pygments_lexer": "ipython3",
   "version": "3.8.5"
  }
 },
 "nbformat": 4,
 "nbformat_minor": 4
}
